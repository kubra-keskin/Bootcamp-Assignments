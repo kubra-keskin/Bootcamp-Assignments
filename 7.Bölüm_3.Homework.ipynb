{
 "cells": [
  {
   "cell_type": "code",
   "execution_count": 1,
   "id": "6027852d",
   "metadata": {},
   "outputs": [],
   "source": [
    "import pandas as pd\n",
    "import numpy as np\n",
    "from sklearn import datasets\n",
    "import warnings\n",
    "warnings.filterwarnings('ignore')"
   ]
  },
  {
   "cell_type": "code",
   "execution_count": 2,
   "id": "eeeaf619",
   "metadata": {},
   "outputs": [],
   "source": [
    "df = pd.read_csv(\"titanic_train.csv\")"
   ]
  },
  {
   "cell_type": "markdown",
   "id": "6c0e8f51",
   "metadata": {},
   "source": [
    "1:survived\n",
    "\n",
    "0:dead"
   ]
  },
  {
   "cell_type": "code",
   "execution_count": 3,
   "id": "9e6ce8d0",
   "metadata": {
    "scrolled": true
   },
   "outputs": [
    {
     "data": {
      "text/html": [
       "<div>\n",
       "<style scoped>\n",
       "    .dataframe tbody tr th:only-of-type {\n",
       "        vertical-align: middle;\n",
       "    }\n",
       "\n",
       "    .dataframe tbody tr th {\n",
       "        vertical-align: top;\n",
       "    }\n",
       "\n",
       "    .dataframe thead th {\n",
       "        text-align: right;\n",
       "    }\n",
       "</style>\n",
       "<table border=\"1\" class=\"dataframe\">\n",
       "  <thead>\n",
       "    <tr style=\"text-align: right;\">\n",
       "      <th></th>\n",
       "      <th>Unnamed: 0</th>\n",
       "      <th>PassengerId</th>\n",
       "      <th>Survived</th>\n",
       "      <th>Pclass</th>\n",
       "      <th>Age</th>\n",
       "      <th>SibSp</th>\n",
       "      <th>Parch</th>\n",
       "      <th>Ticket</th>\n",
       "      <th>Fare</th>\n",
       "      <th>Sex</th>\n",
       "      <th>Title</th>\n",
       "      <th>Q</th>\n",
       "      <th>S</th>\n",
       "    </tr>\n",
       "  </thead>\n",
       "  <tbody>\n",
       "    <tr>\n",
       "      <th>0</th>\n",
       "      <td>0</td>\n",
       "      <td>1</td>\n",
       "      <td>0.0</td>\n",
       "      <td>3</td>\n",
       "      <td>22.0</td>\n",
       "      <td>1</td>\n",
       "      <td>0</td>\n",
       "      <td>A/5 21171</td>\n",
       "      <td>7.2500</td>\n",
       "      <td>1</td>\n",
       "      <td>0</td>\n",
       "      <td>0</td>\n",
       "      <td>1</td>\n",
       "    </tr>\n",
       "    <tr>\n",
       "      <th>1</th>\n",
       "      <td>1</td>\n",
       "      <td>2</td>\n",
       "      <td>1.0</td>\n",
       "      <td>1</td>\n",
       "      <td>38.0</td>\n",
       "      <td>1</td>\n",
       "      <td>0</td>\n",
       "      <td>PC 17599</td>\n",
       "      <td>71.2833</td>\n",
       "      <td>0</td>\n",
       "      <td>2</td>\n",
       "      <td>0</td>\n",
       "      <td>0</td>\n",
       "    </tr>\n",
       "    <tr>\n",
       "      <th>2</th>\n",
       "      <td>2</td>\n",
       "      <td>3</td>\n",
       "      <td>1.0</td>\n",
       "      <td>3</td>\n",
       "      <td>26.0</td>\n",
       "      <td>0</td>\n",
       "      <td>0</td>\n",
       "      <td>STON/O2. 3101282</td>\n",
       "      <td>7.9250</td>\n",
       "      <td>0</td>\n",
       "      <td>1</td>\n",
       "      <td>0</td>\n",
       "      <td>1</td>\n",
       "    </tr>\n",
       "    <tr>\n",
       "      <th>3</th>\n",
       "      <td>3</td>\n",
       "      <td>4</td>\n",
       "      <td>1.0</td>\n",
       "      <td>1</td>\n",
       "      <td>35.0</td>\n",
       "      <td>1</td>\n",
       "      <td>0</td>\n",
       "      <td>113803</td>\n",
       "      <td>53.1000</td>\n",
       "      <td>0</td>\n",
       "      <td>2</td>\n",
       "      <td>0</td>\n",
       "      <td>1</td>\n",
       "    </tr>\n",
       "    <tr>\n",
       "      <th>4</th>\n",
       "      <td>4</td>\n",
       "      <td>5</td>\n",
       "      <td>0.0</td>\n",
       "      <td>3</td>\n",
       "      <td>35.0</td>\n",
       "      <td>0</td>\n",
       "      <td>0</td>\n",
       "      <td>373450</td>\n",
       "      <td>8.0500</td>\n",
       "      <td>1</td>\n",
       "      <td>0</td>\n",
       "      <td>0</td>\n",
       "      <td>1</td>\n",
       "    </tr>\n",
       "  </tbody>\n",
       "</table>\n",
       "</div>"
      ],
      "text/plain": [
       "   Unnamed: 0  PassengerId  Survived  Pclass   Age  SibSp  Parch  \\\n",
       "0           0            1       0.0       3  22.0      1      0   \n",
       "1           1            2       1.0       1  38.0      1      0   \n",
       "2           2            3       1.0       3  26.0      0      0   \n",
       "3           3            4       1.0       1  35.0      1      0   \n",
       "4           4            5       0.0       3  35.0      0      0   \n",
       "\n",
       "             Ticket     Fare  Sex  Title  Q  S  \n",
       "0         A/5 21171   7.2500    1      0  0  1  \n",
       "1          PC 17599  71.2833    0      2  0  0  \n",
       "2  STON/O2. 3101282   7.9250    0      1  0  1  \n",
       "3            113803  53.1000    0      2  0  1  \n",
       "4            373450   8.0500    1      0  0  1  "
      ]
     },
     "execution_count": 3,
     "metadata": {},
     "output_type": "execute_result"
    }
   ],
   "source": [
    "df.head()"
   ]
  },
  {
   "cell_type": "code",
   "execution_count": 4,
   "id": "67991e98",
   "metadata": {},
   "outputs": [],
   "source": [
    "from sklearn.linear_model import LogisticRegression\n",
    "\n",
    "titanic_log_reg = LogisticRegression() "
   ]
  },
  {
   "cell_type": "code",
   "execution_count": 5,
   "id": "c4452b1a",
   "metadata": {},
   "outputs": [],
   "source": [
    "X = df.drop([\"Survived\",\"Ticket\"],axis = 1)\n",
    "y = df[\"Survived\"]"
   ]
  },
  {
   "cell_type": "code",
   "execution_count": 6,
   "id": "5f985e07",
   "metadata": {},
   "outputs": [
    {
     "name": "stdout",
     "output_type": "stream",
     "text": [
      "eğitim veri kümesi doğruluk:  0.8103932584269663\n",
      "test veri kümesi doğruluk:  0.8156424581005587\n"
     ]
    }
   ],
   "source": [
    "from sklearn.model_selection import train_test_split\n",
    "\n",
    "X_train,X_test,y_train,y_test = train_test_split(X,y,test_size=0.2,random_state=100)\n",
    "\n",
    "titanic_log_reg.fit(X_train,y_train)\n",
    "\n",
    "train_score = titanic_log_reg.score(X_train,y_train)\n",
    "test_score = titanic_log_reg.score(X_test,y_test)\n",
    "\n",
    "print(\"eğitim veri kümesi doğruluk: \",train_score)\n",
    "print(\"test veri kümesi doğruluk: \",test_score)\n"
   ]
  },
  {
   "cell_type": "code",
   "execution_count": 7,
   "id": "b49db56e",
   "metadata": {},
   "outputs": [],
   "source": [
    "train_predict = titanic_log_reg.predict(X_train)\n",
    "test_predict = titanic_log_reg.predict(X_test)\n",
    "test_predict_proba = titanic_log_reg.predict_proba(X_test)[:,1]"
   ]
  },
  {
   "cell_type": "markdown",
   "id": "b5298301",
   "metadata": {},
   "source": [
    "## Değerlendirme metrikleri"
   ]
  },
  {
   "cell_type": "markdown",
   "id": "a8e7ff0b",
   "metadata": {},
   "source": [
    "### 1.Hata Matrisi(Confusion Matrix)"
   ]
  },
  {
   "cell_type": "code",
   "execution_count": 8,
   "id": "71a404ad",
   "metadata": {},
   "outputs": [
    {
     "name": "stdout",
     "output_type": "stream",
     "text": [
      "eğitim veri kümesi hata matrisi: \n",
      "[[381  64]\n",
      " [ 71 196]]\n",
      "******************************\n",
      "test veri kümesi hata matrisi: \n",
      "[[91 13]\n",
      " [20 55]]\n"
     ]
    }
   ],
   "source": [
    "from sklearn.metrics import confusion_matrix\n",
    "\n",
    "train_confusion_matrix = confusion_matrix(y_train,train_predict)\n",
    "test_confusion_matrix= confusion_matrix(y_test,test_predict)\n",
    "\n",
    "print(\"eğitim veri kümesi hata matrisi: \",train_confusion_matrix ,\"*\"*30,\n",
    "      \n",
    "      \"test veri kümesi hata matrisi: \",test_confusion_matrix ,sep=\"\\n\" )\n",
    "\n"
   ]
  },
  {
   "cell_type": "markdown",
   "id": "c9f884b9",
   "metadata": {},
   "source": [
    "test confusion matris acıklaması: \n",
    "\n",
    "Gercekte 104 kişi ölmüş olup TN:91'i ölü olarak tahmin edilmiş ve FP:13'ü hayatta kaldı olarak tahmin edilmiştir.\n",
    "\n",
    "Gercekte 75 kişi hayatta kalmıs olup FN:20'si ölü olarak tahmin edilmiş ve TP:55'i hayatta kaldı olarak tahmin edilmiştir."
   ]
  },
  {
   "cell_type": "code",
   "execution_count": 9,
   "id": "ba727a0a",
   "metadata": {},
   "outputs": [
    {
     "name": "stdout",
     "output_type": "stream",
     "text": [
      "Doğru negatif sayısı   : 91\n",
      "Doğru pozitif sayısı   : 55\n",
      "Yanlış pozitif sayısı  : 13\n",
      "Yanlış negatif sayısı  : 20\n"
     ]
    }
   ],
   "source": [
    "TN = test_confusion_matrix[0][0]\n",
    "TP = test_confusion_matrix[1][1]\n",
    "FP = test_confusion_matrix[0][1]\n",
    "FN = test_confusion_matrix[1][0]\n",
    "\n",
    "print(\"Doğru negatif sayısı   :\", TN)\n",
    "print(\"Doğru pozitif sayısı   :\", TP)\n",
    "print(\"Yanlış pozitif sayısı  :\", FP)\n",
    "print(\"Yanlış negatif sayısı  :\", FN)"
   ]
  },
  {
   "cell_type": "markdown",
   "id": "dcfc9ed4",
   "metadata": {},
   "source": [
    "### Hata Matrisi Metrikleri"
   ]
  },
  {
   "cell_type": "markdown",
   "id": "dbde4d08",
   "metadata": {},
   "source": [
    "#### 1.1.Doğruluk(Accuracy)"
   ]
  },
  {
   "cell_type": "markdown",
   "id": "c1459475",
   "metadata": {},
   "source": [
    "Doğru olarak sınıflandırılanların toplam sayıya oranıdır."
   ]
  },
  {
   "cell_type": "code",
   "execution_count": 10,
   "id": "fb510ba1",
   "metadata": {},
   "outputs": [
    {
     "name": "stdout",
     "output_type": "stream",
     "text": [
      "test veri kümesinin doğruluğu:  0.8156424581005587\n",
      "Hesaplanan doğruluk değeri:  0.8156424581005587\n",
      "accuracy_score:  0.8156424581005587\n"
     ]
    }
   ],
   "source": [
    "from sklearn.metrics import accuracy_score\n",
    "\n",
    "print(\"test veri kümesinin doğruluğu: \", titanic_log_reg.score(X_test,y_test))\n",
    "print(\"Hesaplanan doğruluk değeri: \",(TP+TN)/(TP+TN+FP+FN))\n",
    "print(\"accuracy_score: \",accuracy_score(y_test,test_predict))"
   ]
  },
  {
   "cell_type": "markdown",
   "id": "b66f8d5b",
   "metadata": {},
   "source": [
    "#### 1.2.Hata Oranı(Error Rate)"
   ]
  },
  {
   "cell_type": "markdown",
   "id": "69b0a0c2",
   "metadata": {},
   "source": [
    "Yanlış olarak sınıflandırılanların toplam sayıya oranıdır."
   ]
  },
  {
   "cell_type": "code",
   "execution_count": 11,
   "id": "9c46ed9d",
   "metadata": {},
   "outputs": [
    {
     "name": "stdout",
     "output_type": "stream",
     "text": [
      "hata oranı:  0.18435754189944134\n",
      "hata oranı:  0.1843575418994413\n"
     ]
    }
   ],
   "source": [
    "print(\"hata oranı: \",(FP+FN)/(TN+TP+FN+FP))\n",
    "print(\"hata oranı: \",1-accuracy_score(y_test,test_predict))"
   ]
  },
  {
   "cell_type": "markdown",
   "id": "26640f9f",
   "metadata": {},
   "source": [
    "#### 1.3.Hassasiyet (Precision)"
   ]
  },
  {
   "cell_type": "markdown",
   "id": "879308ed",
   "metadata": {},
   "source": [
    "Pozitif olarak tahmin edilenlerin gerçekte ne kadarının pozitif olduğunu gösterir.Hayatta kaldığı tahmin edilen yolcuların %80'i gercekten hayatta kalmıstır."
   ]
  },
  {
   "cell_type": "code",
   "execution_count": 12,
   "id": "0daf8708",
   "metadata": {},
   "outputs": [
    {
     "name": "stdout",
     "output_type": "stream",
     "text": [
      "Hassasiyet oranı:  0.8088235294117647\n",
      "precision_score degeri:  0.8088235294117647\n"
     ]
    }
   ],
   "source": [
    "from sklearn.metrics import precision_score\n",
    "\n",
    "print(\"Hassasiyet oranı: \",precision_score(y_test,test_predict))\n",
    "print(\"precision_score degeri: \",TP/(TP+FP))"
   ]
  },
  {
   "cell_type": "markdown",
   "id": "482d0e2c",
   "metadata": {},
   "source": [
    "#### 1.4.Duyarlılık(Recall)"
   ]
  },
  {
   "cell_type": "markdown",
   "id": "43213782",
   "metadata": {},
   "source": [
    "Gerçekten pozitif olanların ne kadarının pozitif olduğunu gösterir.Gercekte hayatta kalan yolcuların %73'ü hayatta kaldı olarak tahmin edilmiştir."
   ]
  },
  {
   "cell_type": "code",
   "execution_count": 13,
   "id": "def971d3",
   "metadata": {},
   "outputs": [
    {
     "name": "stdout",
     "output_type": "stream",
     "text": [
      "Duyarlılık oranı:  0.7333333333333333\n",
      "recall_score degeri:  0.7333333333333333\n"
     ]
    }
   ],
   "source": [
    "from sklearn.metrics import recall_score\n",
    "\n",
    "print(\"Duyarlılık oranı: \",recall_score(y_test,test_predict))\n",
    "print(\"recall_score degeri: \",TP/(TP+FN))"
   ]
  },
  {
   "cell_type": "markdown",
   "id": "9d6ddfe9",
   "metadata": {},
   "source": [
    "#### 1.5.Özgünlük"
   ]
  },
  {
   "cell_type": "markdown",
   "id": "88165da7",
   "metadata": {},
   "source": [
    "Gerçekte negatif olanların ne kadar basarılı tahmin edildiğidir.Gercekte ölen yolcuların %87.5'i öldü olarak tahmin edilmiştir."
   ]
  },
  {
   "cell_type": "code",
   "execution_count": 14,
   "id": "3c00e08b",
   "metadata": {},
   "outputs": [
    {
     "name": "stdout",
     "output_type": "stream",
     "text": [
      "Özgünlük değeri:  0.875\n"
     ]
    }
   ],
   "source": [
    "print(\"Özgünlük değeri: \",TN/(TN+FP))"
   ]
  },
  {
   "cell_type": "markdown",
   "id": "c3ed2339",
   "metadata": {},
   "source": [
    "#### 1.6.F1 score"
   ]
  },
  {
   "cell_type": "code",
   "execution_count": 15,
   "id": "d7934754",
   "metadata": {},
   "outputs": [
    {
     "name": "stdout",
     "output_type": "stream",
     "text": [
      "f1_score degeri:  0.7692307692307693\n"
     ]
    }
   ],
   "source": [
    "from sklearn.metrics import f1_score\n",
    "\n",
    "print(\"f1_score degeri: \",f1_score(y_test,test_predict))"
   ]
  },
  {
   "cell_type": "markdown",
   "id": "e07b1c05",
   "metadata": {},
   "source": [
    "### 2.ROC Eğrisi(ROC/AUC)"
   ]
  },
  {
   "cell_type": "code",
   "execution_count": 16,
   "id": "e7699af7",
   "metadata": {},
   "outputs": [
    {
     "name": "stdout",
     "output_type": "stream",
     "text": [
      "AUC değeri:  0.8598717948717949\n"
     ]
    },
    {
     "data": {
      "image/png": "[encoded data removed]",
      "text/plain": [
       "<Figure size 432x288 with 1 Axes>"
      ]
     },
     "metadata": {
      "needs_background": "light"
     },
     "output_type": "display_data"
    }
   ],
   "source": [
    "from sklearn.metrics import roc_curve,roc_auc_score\n",
    "\n",
    "auc_area = roc_auc_score(y_test,test_predict_proba)\n",
    "print(\"AUC değeri: \",roc_auc_score(y_test,test_predict_proba))\n",
    "\n",
    "fpr,tpr,threshold = roc_curve(y_test,test_predict_proba)\n",
    "\n",
    "import matplotlib.pyplot as plt\n",
    "\n",
    "plt.plot([0,1],[0,1],\"k--\")\n",
    "plt.plot(fpr,tpr,label='ROC curve (area = %0.2f)' % auc_area)\n",
    "plt.title(\"Titanic ROC Eğrisi\")\n",
    "plt.xlabel(\"False Positive Rate\")\n",
    "plt.ylabel(\"True Positive Rate\")\n",
    "plt.legend(loc=\"lower right\")\n",
    "plt.show()"
   ]
  },
  {
   "cell_type": "markdown",
   "id": "3a5a2530",
   "metadata": {},
   "source": [
    "### 3.Hassasiyet/Duyarlılık Eğrisi"
   ]
  },
  {
   "cell_type": "code",
   "execution_count": 17,
   "id": "1b7830c7",
   "metadata": {},
   "outputs": [
    {
     "data": {
      "image/png": "[encoded data removed]",
      "text/plain": [
       "<Figure size 432x288 with 1 Axes>"
      ]
     },
     "metadata": {
      "needs_background": "light"
     },
     "output_type": "display_data"
    }
   ],
   "source": [
    "from sklearn.metrics import precision_recall_curve\n",
    "\n",
    "hassasiyet,duyarlılık,_ = precision_recall_curve(y_test,test_predict_proba)\n",
    "\n",
    "plt.plot(duyarlılık,hassasiyet)\n",
    "plt.title(\"Titanic Hassasiyet/Duyarlılık Eğrisi\")\n",
    "plt.xlabel(\"Duyarlılık\")\n",
    "plt.ylabel(\"Hassasiyet\")\n",
    "plt.show()"
   ]
  },
  {
   "cell_type": "markdown",
   "id": "322304d3",
   "metadata": {},
   "source": [
    "### 4.Logaritmik Kayıp"
   ]
  },
  {
   "cell_type": "code",
   "execution_count": 18,
   "id": "8471b24f",
   "metadata": {},
   "outputs": [
    {
     "name": "stdout",
     "output_type": "stream",
     "text": [
      "Logaritmik kayıp değeri:  0.4494611836034657\n"
     ]
    }
   ],
   "source": [
    "from sklearn.metrics import log_loss\n",
    "\n",
    "print(\"Logaritmik kayıp değeri: \",log_loss(y_test,test_predict_proba))"
   ]
  },
  {
   "cell_type": "markdown",
   "id": "726f385e",
   "metadata": {},
   "source": [
    "### Farklı C değerleri için ROC ve Hassasiyet/Duyarlılık eğrileri"
   ]
  },
  {
   "cell_type": "markdown",
   "id": "5c5e35b2",
   "metadata": {},
   "source": [
    "#### C = 0.1 için:"
   ]
  },
  {
   "cell_type": "code",
   "execution_count": 19,
   "id": "239e09b0",
   "metadata": {
    "scrolled": true
   },
   "outputs": [
    {
     "name": "stdout",
     "output_type": "stream",
     "text": [
      "train set score:  0.8132022471910112\n",
      "test set score:  0.8156424581005587\n"
     ]
    }
   ],
   "source": [
    "log_reg = LogisticRegression(C=0.1)\n",
    "\n",
    "log_reg.fit(X_train,y_train)\n",
    "print(\"train set score: \",log_reg.score(X_train,y_train))\n",
    "print(\"test set score: \",log_reg.score(X_test,y_test))"
   ]
  },
  {
   "cell_type": "code",
   "execution_count": 20,
   "id": "96291c89",
   "metadata": {},
   "outputs": [],
   "source": [
    "train_predict = log_reg.predict(X_train)\n",
    "test_predict = log_reg.predict(X_test)\n",
    "test_predict_proba = log_reg.predict_proba(X_test)[:,1]\n"
   ]
  },
  {
   "cell_type": "code",
   "execution_count": 21,
   "id": "7c1a80e6",
   "metadata": {},
   "outputs": [
    {
     "name": "stdout",
     "output_type": "stream",
     "text": [
      "auc_area:  0.8607692307692308\n"
     ]
    },
    {
     "data": {
      "image/png": "[encoded data removed]",
      "text/plain": [
       "<Figure size 432x288 with 1 Axes>"
      ]
     },
     "metadata": {
      "needs_background": "light"
     },
     "output_type": "display_data"
    }
   ],
   "source": [
    "#ROC eğrisi\n",
    "\n",
    "auc_area = roc_auc_score(y_test,test_predict_proba)\n",
    "print(\"auc_area: \",auc_area)\n",
    "ftr,ptr,threshold = roc_curve(y_test,test_predict_proba)\n",
    "\n",
    "plt.plot([0,1],[0,1],\"k--\")\n",
    "plt.plot(ftr,ptr,label=\"roc_curve(area = %0.2f)\" % auc_area)\n",
    "plt.title(\"Titanic ROC Eğrisi\")\n",
    "plt.xlabel(\"False Positive Rate\")\n",
    "plt.ylabel(\"True Positive Rate\")\n",
    "plt.legend(loc=\"lower right\")\n",
    "plt.show()"
   ]
  },
  {
   "cell_type": "code",
   "execution_count": 22,
   "id": "68ff7e6c",
   "metadata": {},
   "outputs": [
    {
     "data": {
      "image/png": "[encoded data removed]",
      "text/plain": [
       "<Figure size 432x288 with 1 Axes>"
      ]
     },
     "metadata": {
      "needs_background": "light"
     },
     "output_type": "display_data"
    }
   ],
   "source": [
    "# Hassasiyet/Duyarlılık Eğrisi\n",
    "\n",
    "hassasiyet,duyarlılık,_ = precision_recall_curve(y_test,test_predict_proba)\n",
    "plt.plot(duyarlılık,hassasiyet)\n",
    "plt.title(\"Titanic Hassasiyet/Duyarlılık Eğrisi\")\n",
    "plt.xlabel(\"Duyarlılık\")\n",
    "plt.ylabel(\"Hassasiyet\")\n",
    "plt.show()"
   ]
  },
  {
   "cell_type": "markdown",
   "id": "b19229fe",
   "metadata": {},
   "source": [
    "#### C=0.01 için:"
   ]
  },
  {
   "cell_type": "code",
   "execution_count": 23,
   "id": "dbf939e8",
   "metadata": {},
   "outputs": [
    {
     "name": "stdout",
     "output_type": "stream",
     "text": [
      "train set score:  0.7752808988764045\n",
      "test set score:  0.7821229050279329\n"
     ]
    }
   ],
   "source": [
    "log_reg = LogisticRegression(C=0.01)\n",
    "\n",
    "log_reg.fit(X_train,y_train)\n",
    "print(\"train set score: \",log_reg.score(X_train,y_train))\n",
    "print(\"test set score: \",log_reg.score(X_test,y_test))\n",
    "\n",
    "train_predict = log_reg.predict(X_train)\n",
    "test_predict = log_reg.predict(X_test)\n",
    "test_predict_proba = log_reg.predict_proba(X_test)[:,1]\n"
   ]
  },
  {
   "cell_type": "code",
   "execution_count": 24,
   "id": "2b689da9",
   "metadata": {},
   "outputs": [
    {
     "name": "stdout",
     "output_type": "stream",
     "text": [
      "auc_area:  0.8458974358974359\n"
     ]
    },
    {
     "data": {
      "image/png": "[encoded data removed]",
      "text/plain": [
       "<Figure size 432x288 with 1 Axes>"
      ]
     },
     "metadata": {
      "needs_background": "light"
     },
     "output_type": "display_data"
    }
   ],
   "source": [
    "#ROC eğrisi\n",
    "\n",
    "auc_area = roc_auc_score(y_test,test_predict_proba)\n",
    "print(\"auc_area: \",auc_area)\n",
    "ftr,ptr,threshold = roc_curve(y_test,test_predict_proba)\n",
    "\n",
    "plt.plot([0,1],[0,1],\"k--\")\n",
    "plt.plot(ftr,ptr,label=\"roc_curve(area = %0.2f)\" % auc_area)\n",
    "plt.title(\"Titanic ROC Eğrisi\")\n",
    "plt.xlabel(\"False Positive Rate\")\n",
    "plt.ylabel(\"True Positive Rate\")\n",
    "plt.legend(loc=\"lower right\")\n",
    "plt.show()"
   ]
  },
  {
   "cell_type": "code",
   "execution_count": 25,
   "id": "128bef5b",
   "metadata": {},
   "outputs": [
    {
     "data": {
      "image/png": "[encoded data removed]",
      "text/plain": [
       "<Figure size 432x288 with 1 Axes>"
      ]
     },
     "metadata": {
      "needs_background": "light"
     },
     "output_type": "display_data"
    }
   ],
   "source": [
    "# Hassasiyet/Duyarlılık Eğrisi\n",
    "\n",
    "hassasiyet,duyarlılık,_ = precision_recall_curve(y_test,test_predict_proba)\n",
    "plt.plot(duyarlılık,hassasiyet)\n",
    "plt.title(\"Titanic Hassasiyet/Duyarlılık Eğrisi\")\n",
    "plt.xlabel(\"Duyarlılık\")\n",
    "plt.ylabel(\"Hassasiyet\")\n",
    "plt.show()"
   ]
  },
  {
   "cell_type": "markdown",
   "id": "346c59ce",
   "metadata": {},
   "source": [
    "#### C=10 için:"
   ]
  },
  {
   "cell_type": "code",
   "execution_count": 26,
   "id": "4d999009",
   "metadata": {},
   "outputs": [
    {
     "name": "stdout",
     "output_type": "stream",
     "text": [
      "train set score:  0.8075842696629213\n",
      "test set score:  0.8156424581005587\n"
     ]
    }
   ],
   "source": [
    "log_reg = LogisticRegression(C=10)\n",
    "\n",
    "log_reg.fit(X_train,y_train)\n",
    "print(\"train set score: \",log_reg.score(X_train,y_train))\n",
    "print(\"test set score: \",log_reg.score(X_test,y_test))\n",
    "\n",
    "train_predict = log_reg.predict(X_train)\n",
    "test_predict = log_reg.predict(X_test)\n",
    "test_predict_proba = log_reg.predict_proba(X_test)[:,1]\n"
   ]
  },
  {
   "cell_type": "code",
   "execution_count": 27,
   "id": "138a70d5",
   "metadata": {},
   "outputs": [
    {
     "name": "stdout",
     "output_type": "stream",
     "text": [
      "auc_area:  0.854871794871795\n"
     ]
    },
    {
     "data": {
      "image/png": "[encoded data removed]",
      "text/plain": [
       "<Figure size 432x288 with 1 Axes>"
      ]
     },
     "metadata": {
      "needs_background": "light"
     },
     "output_type": "display_data"
    }
   ],
   "source": [
    "#ROC eğrisi\n",
    "\n",
    "auc_area = roc_auc_score(y_test,test_predict_proba)\n",
    "print(\"auc_area: \",auc_area)\n",
    "ftr,ptr,threshold = roc_curve(y_test,test_predict_proba)\n",
    "\n",
    "plt.plot([0,1],[0,1],\"k--\")\n",
    "plt.plot(ftr,ptr,label=\"roc_curve(area = %0.2f)\" % auc_area)\n",
    "plt.title(\"Titanic ROC Eğrisi\")\n",
    "plt.xlabel(\"False Positive Rate\")\n",
    "plt.ylabel(\"True Positive Rate\")\n",
    "plt.legend(loc=\"lower right\")\n",
    "plt.show()"
   ]
  },
  {
   "cell_type": "code",
   "execution_count": 28,
   "id": "697e30ff",
   "metadata": {},
   "outputs": [
    {
     "data": {
      "image/png": "[encoded data removed]",
      "text/plain": [
       "<Figure size 432x288 with 1 Axes>"
      ]
     },
     "metadata": {
      "needs_background": "light"
     },
     "output_type": "display_data"
    }
   ],
   "source": [
    "# Hassasiyet/Duyarlılık Eğrisi\n",
    "\n",
    "hassasiyet,duyarlılık,_ = precision_recall_curve(y_test,test_predict_proba)\n",
    "plt.plot(duyarlılık,hassasiyet)\n",
    "plt.title(\"Titanic Hassasiyet/Duyarlılık Eğrisi\")\n",
    "plt.xlabel(\"Duyarlılık\")\n",
    "plt.ylabel(\"Hassasiyet\")\n",
    "plt.show()"
   ]
  },
  {
   "cell_type": "code",
   "execution_count": 29,
   "id": "3b07bba8",
   "metadata": {},
   "outputs": [
    {
     "data": {
      "text/html": [
       "<div>\n",
       "<style scoped>\n",
       "    .dataframe tbody tr th:only-of-type {\n",
       "        vertical-align: middle;\n",
       "    }\n",
       "\n",
       "    .dataframe tbody tr th {\n",
       "        vertical-align: top;\n",
       "    }\n",
       "\n",
       "    .dataframe thead th {\n",
       "        text-align: right;\n",
       "    }\n",
       "</style>\n",
       "<table border=\"1\" class=\"dataframe\">\n",
       "  <thead>\n",
       "    <tr style=\"text-align: right;\">\n",
       "      <th></th>\n",
       "      <th>C Değeri</th>\n",
       "      <th>Eğitim Doğruluğu</th>\n",
       "      <th>Test Doğruluğu</th>\n",
       "    </tr>\n",
       "  </thead>\n",
       "  <tbody>\n",
       "    <tr>\n",
       "      <th>0</th>\n",
       "      <td>0.001</td>\n",
       "      <td>0.692416</td>\n",
       "      <td>0.648045</td>\n",
       "    </tr>\n",
       "    <tr>\n",
       "      <th>1</th>\n",
       "      <td>0.010</td>\n",
       "      <td>0.775281</td>\n",
       "      <td>0.782123</td>\n",
       "    </tr>\n",
       "    <tr>\n",
       "      <th>2</th>\n",
       "      <td>0.100</td>\n",
       "      <td>0.813202</td>\n",
       "      <td>0.815642</td>\n",
       "    </tr>\n",
       "    <tr>\n",
       "      <th>3</th>\n",
       "      <td>1.000</td>\n",
       "      <td>0.810393</td>\n",
       "      <td>0.815642</td>\n",
       "    </tr>\n",
       "    <tr>\n",
       "      <th>4</th>\n",
       "      <td>10.000</td>\n",
       "      <td>0.807584</td>\n",
       "      <td>0.815642</td>\n",
       "    </tr>\n",
       "    <tr>\n",
       "      <th>5</th>\n",
       "      <td>100.000</td>\n",
       "      <td>0.807584</td>\n",
       "      <td>0.815642</td>\n",
       "    </tr>\n",
       "    <tr>\n",
       "      <th>6</th>\n",
       "      <td>1000.000</td>\n",
       "      <td>0.807584</td>\n",
       "      <td>0.815642</td>\n",
       "    </tr>\n",
       "  </tbody>\n",
       "</table>\n",
       "</div>"
      ],
      "text/plain": [
       "   C Değeri  Eğitim Doğruluğu  Test Doğruluğu\n",
       "0     0.001          0.692416        0.648045\n",
       "1     0.010          0.775281        0.782123\n",
       "2     0.100          0.813202        0.815642\n",
       "3     1.000          0.810393        0.815642\n",
       "4    10.000          0.807584        0.815642\n",
       "5   100.000          0.807584        0.815642\n",
       "6  1000.000          0.807584        0.815642"
      ]
     },
     "metadata": {},
     "output_type": "display_data"
    }
   ],
   "source": [
    "C_değerleri = [0.001,0.01,0.1,1,10,100, 1000]\n",
    "dogruluk_df = pd.DataFrame(columns = ['C_Değeri','Doğruluk'])\n",
    "\n",
    "dogruluk_değerleri = pd.DataFrame(columns=['C Değeri', 'Eğitim Doğruluğu', 'Test Doğruluğu'])\n",
    "\n",
    "for c in C_değerleri:\n",
    "    \n",
    "    # Apply logistic regression model to training data\n",
    "    lr = LogisticRegression(penalty = 'l2', C = c, random_state = 0)\n",
    "    lr.fit(X_train,y_train)\n",
    "    dogruluk_değerleri = dogruluk_değerleri.append({'C Değeri': c,\n",
    "                                                    'Eğitim Doğruluğu' : lr.score(X_train, y_train),\n",
    "                                                    'Test Doğruluğu': lr.score(X_test, y_test)\n",
    "                                                    }, ignore_index=True)\n",
    "display(dogruluk_değerleri)  "
   ]
  },
  {
   "cell_type": "markdown",
   "id": "5f4b661e",
   "metadata": {},
   "source": [
    "Farklı C değerleri için çizilen ROC Eğrileri, Hassasiyet/Duyarlılık Eğrileri, Eğitim Doğruluğu ve Test Doğruluğu incelendiğinde C=1 en ideal değerdir."
   ]
  }
 ],
 "metadata": {
  "kernelspec": {
   "display_name": "Python 3",
   "language": "python",
   "name": "python3"
  },
  "language_info": {
   "codemirror_mode": {
    "name": "ipython",
    "version": 3
   },
   "file_extension": ".py",
   "mimetype": "text/x-python",
   "name": "python",
   "nbconvert_exporter": "python",
   "pygments_lexer": "ipython3",
   "version": "3.8.8"
  }
 },
 "nbformat": 4,
 "nbformat_minor": 5
}
