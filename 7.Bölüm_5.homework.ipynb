{
 "cells": [
  {
   "cell_type": "code",
   "execution_count": 1,
   "id": "da351bc8",
   "metadata": {},
   "outputs": [],
   "source": [
    "import numpy as np\n",
    "import pandas as pd\n",
    "import warnings\n",
    "warnings.filterwarnings(\"ignore\")"
   ]
  },
  {
   "cell_type": "code",
   "execution_count": 2,
   "id": "bc81b4b4",
   "metadata": {},
   "outputs": [
    {
     "data": {
      "text/html": [
       "<div>\n",
       "<style scoped>\n",
       "    .dataframe tbody tr th:only-of-type {\n",
       "        vertical-align: middle;\n",
       "    }\n",
       "\n",
       "    .dataframe tbody tr th {\n",
       "        vertical-align: top;\n",
       "    }\n",
       "\n",
       "    .dataframe thead th {\n",
       "        text-align: right;\n",
       "    }\n",
       "</style>\n",
       "<table border=\"1\" class=\"dataframe\">\n",
       "  <thead>\n",
       "    <tr style=\"text-align: right;\">\n",
       "      <th></th>\n",
       "      <th>Unnamed: 0</th>\n",
       "      <th>PassengerId</th>\n",
       "      <th>Survived</th>\n",
       "      <th>Pclass</th>\n",
       "      <th>Age</th>\n",
       "      <th>SibSp</th>\n",
       "      <th>Parch</th>\n",
       "      <th>Ticket</th>\n",
       "      <th>Fare</th>\n",
       "      <th>Sex</th>\n",
       "      <th>Title</th>\n",
       "      <th>Q</th>\n",
       "      <th>S</th>\n",
       "    </tr>\n",
       "  </thead>\n",
       "  <tbody>\n",
       "    <tr>\n",
       "      <th>0</th>\n",
       "      <td>0</td>\n",
       "      <td>1</td>\n",
       "      <td>0.0</td>\n",
       "      <td>3</td>\n",
       "      <td>22.0</td>\n",
       "      <td>1</td>\n",
       "      <td>0</td>\n",
       "      <td>A/5 21171</td>\n",
       "      <td>7.2500</td>\n",
       "      <td>1</td>\n",
       "      <td>0</td>\n",
       "      <td>0</td>\n",
       "      <td>1</td>\n",
       "    </tr>\n",
       "    <tr>\n",
       "      <th>1</th>\n",
       "      <td>1</td>\n",
       "      <td>2</td>\n",
       "      <td>1.0</td>\n",
       "      <td>1</td>\n",
       "      <td>38.0</td>\n",
       "      <td>1</td>\n",
       "      <td>0</td>\n",
       "      <td>PC 17599</td>\n",
       "      <td>71.2833</td>\n",
       "      <td>0</td>\n",
       "      <td>2</td>\n",
       "      <td>0</td>\n",
       "      <td>0</td>\n",
       "    </tr>\n",
       "    <tr>\n",
       "      <th>2</th>\n",
       "      <td>2</td>\n",
       "      <td>3</td>\n",
       "      <td>1.0</td>\n",
       "      <td>3</td>\n",
       "      <td>26.0</td>\n",
       "      <td>0</td>\n",
       "      <td>0</td>\n",
       "      <td>STON/O2. 3101282</td>\n",
       "      <td>7.9250</td>\n",
       "      <td>0</td>\n",
       "      <td>1</td>\n",
       "      <td>0</td>\n",
       "      <td>1</td>\n",
       "    </tr>\n",
       "    <tr>\n",
       "      <th>3</th>\n",
       "      <td>3</td>\n",
       "      <td>4</td>\n",
       "      <td>1.0</td>\n",
       "      <td>1</td>\n",
       "      <td>35.0</td>\n",
       "      <td>1</td>\n",
       "      <td>0</td>\n",
       "      <td>113803</td>\n",
       "      <td>53.1000</td>\n",
       "      <td>0</td>\n",
       "      <td>2</td>\n",
       "      <td>0</td>\n",
       "      <td>1</td>\n",
       "    </tr>\n",
       "    <tr>\n",
       "      <th>4</th>\n",
       "      <td>4</td>\n",
       "      <td>5</td>\n",
       "      <td>0.0</td>\n",
       "      <td>3</td>\n",
       "      <td>35.0</td>\n",
       "      <td>0</td>\n",
       "      <td>0</td>\n",
       "      <td>373450</td>\n",
       "      <td>8.0500</td>\n",
       "      <td>1</td>\n",
       "      <td>0</td>\n",
       "      <td>0</td>\n",
       "      <td>1</td>\n",
       "    </tr>\n",
       "  </tbody>\n",
       "</table>\n",
       "</div>"
      ],
      "text/plain": [
       "   Unnamed: 0  PassengerId  Survived  Pclass   Age  SibSp  Parch  \\\n",
       "0           0            1       0.0       3  22.0      1      0   \n",
       "1           1            2       1.0       1  38.0      1      0   \n",
       "2           2            3       1.0       3  26.0      0      0   \n",
       "3           3            4       1.0       1  35.0      1      0   \n",
       "4           4            5       0.0       3  35.0      0      0   \n",
       "\n",
       "             Ticket     Fare  Sex  Title  Q  S  \n",
       "0         A/5 21171   7.2500    1      0  0  1  \n",
       "1          PC 17599  71.2833    0      2  0  0  \n",
       "2  STON/O2. 3101282   7.9250    0      1  0  1  \n",
       "3            113803  53.1000    0      2  0  1  \n",
       "4            373450   8.0500    1      0  0  1  "
      ]
     },
     "execution_count": 2,
     "metadata": {},
     "output_type": "execute_result"
    }
   ],
   "source": [
    "df = pd.read_csv(\"titanic_train.csv\")\n",
    "df.head()"
   ]
  },
  {
   "cell_type": "code",
   "execution_count": 3,
   "id": "94902020",
   "metadata": {},
   "outputs": [
    {
     "data": {
      "text/plain": [
       "0.0    549\n",
       "1.0    342\n",
       "Name: Survived, dtype: int64"
      ]
     },
     "execution_count": 3,
     "metadata": {},
     "output_type": "execute_result"
    }
   ],
   "source": [
    "df.Survived.value_counts() #sınıf dengesizliği yoktur."
   ]
  },
  {
   "cell_type": "code",
   "execution_count": 4,
   "id": "4627c023",
   "metadata": {},
   "outputs": [],
   "source": [
    "X = df.drop([\"Survived\",\"Ticket\"],axis=1)\n",
    "y = df[\"Survived\"]"
   ]
  },
  {
   "cell_type": "code",
   "execution_count": 94,
   "id": "d8c1f4c0",
   "metadata": {
    "scrolled": true
   },
   "outputs": [
    {
     "name": "stdout",
     "output_type": "stream",
     "text": [
      "model doğruluğu:  0.8156424581005587\n"
     ]
    }
   ],
   "source": [
    "from sklearn.model_selection import train_test_split\n",
    "from sklearn.linear_model import LogisticRegression\n",
    "\n",
    "X_train,X_test,y_train,y_test = train_test_split(X,y,test_size=0.2,random_state=150,stratify=y)\n",
    "log_reg = LogisticRegression(solver=\"liblinear\")\n",
    "log_reg.fit(X_train,y_train)\n",
    "\n",
    "predict_train = log_reg.predict(X_train)\n",
    "predict_test = log_reg.predict(X_test)\n",
    "print(\"model doğruluğu: \",log_reg.score(X_test,y_test))"
   ]
  },
  {
   "cell_type": "code",
   "execution_count": 95,
   "id": "327fe8c8",
   "metadata": {},
   "outputs": [
    {
     "data": {
      "text/plain": [
       "'eğitim veri kümesi confusion matrix'"
      ]
     },
     "metadata": {},
     "output_type": "display_data"
    },
    {
     "data": {
      "text/html": [
       "<div>\n",
       "<style scoped>\n",
       "    .dataframe tbody tr th:only-of-type {\n",
       "        vertical-align: middle;\n",
       "    }\n",
       "\n",
       "    .dataframe tbody tr th {\n",
       "        vertical-align: top;\n",
       "    }\n",
       "\n",
       "    .dataframe thead th {\n",
       "        text-align: right;\n",
       "    }\n",
       "</style>\n",
       "<table border=\"1\" class=\"dataframe\">\n",
       "  <thead>\n",
       "    <tr style=\"text-align: right;\">\n",
       "      <th>Predicted</th>\n",
       "      <th>0.0</th>\n",
       "      <th>1.0</th>\n",
       "      <th>All</th>\n",
       "    </tr>\n",
       "    <tr>\n",
       "      <th>Actual</th>\n",
       "      <th></th>\n",
       "      <th></th>\n",
       "      <th></th>\n",
       "    </tr>\n",
       "  </thead>\n",
       "  <tbody>\n",
       "    <tr>\n",
       "      <th>0.0</th>\n",
       "      <td>381</td>\n",
       "      <td>58</td>\n",
       "      <td>439</td>\n",
       "    </tr>\n",
       "    <tr>\n",
       "      <th>1.0</th>\n",
       "      <td>68</td>\n",
       "      <td>205</td>\n",
       "      <td>273</td>\n",
       "    </tr>\n",
       "    <tr>\n",
       "      <th>All</th>\n",
       "      <td>449</td>\n",
       "      <td>263</td>\n",
       "      <td>712</td>\n",
       "    </tr>\n",
       "  </tbody>\n",
       "</table>\n",
       "</div>"
      ],
      "text/plain": [
       "Predicted  0.0  1.0  All\n",
       "Actual                  \n",
       "0.0        381   58  439\n",
       "1.0         68  205  273\n",
       "All        449  263  712"
      ]
     },
     "metadata": {},
     "output_type": "display_data"
    },
    {
     "data": {
      "text/plain": [
       "'****************************************'"
      ]
     },
     "metadata": {},
     "output_type": "display_data"
    },
    {
     "data": {
      "text/plain": [
       "'test veri kümesi confusion matrix'"
      ]
     },
     "metadata": {},
     "output_type": "display_data"
    },
    {
     "data": {
      "text/html": [
       "<div>\n",
       "<style scoped>\n",
       "    .dataframe tbody tr th:only-of-type {\n",
       "        vertical-align: middle;\n",
       "    }\n",
       "\n",
       "    .dataframe tbody tr th {\n",
       "        vertical-align: top;\n",
       "    }\n",
       "\n",
       "    .dataframe thead th {\n",
       "        text-align: right;\n",
       "    }\n",
       "</style>\n",
       "<table border=\"1\" class=\"dataframe\">\n",
       "  <thead>\n",
       "    <tr style=\"text-align: right;\">\n",
       "      <th>Predicted</th>\n",
       "      <th>0.0</th>\n",
       "      <th>1.0</th>\n",
       "      <th>All</th>\n",
       "    </tr>\n",
       "    <tr>\n",
       "      <th>Actual</th>\n",
       "      <th></th>\n",
       "      <th></th>\n",
       "      <th></th>\n",
       "    </tr>\n",
       "  </thead>\n",
       "  <tbody>\n",
       "    <tr>\n",
       "      <th>0.0</th>\n",
       "      <td>98</td>\n",
       "      <td>12</td>\n",
       "      <td>110</td>\n",
       "    </tr>\n",
       "    <tr>\n",
       "      <th>1.0</th>\n",
       "      <td>21</td>\n",
       "      <td>48</td>\n",
       "      <td>69</td>\n",
       "    </tr>\n",
       "    <tr>\n",
       "      <th>All</th>\n",
       "      <td>119</td>\n",
       "      <td>60</td>\n",
       "      <td>179</td>\n",
       "    </tr>\n",
       "  </tbody>\n",
       "</table>\n",
       "</div>"
      ],
      "text/plain": [
       "Predicted  0.0  1.0  All\n",
       "Actual                  \n",
       "0.0         98   12  110\n",
       "1.0         21   48   69\n",
       "All        119   60  179"
      ]
     },
     "metadata": {},
     "output_type": "display_data"
    }
   ],
   "source": [
    "# confusion_matrix\n",
    "\n",
    "cross_table_train = pd.crosstab(y_train, predict_train, rownames=['Actual'], colnames=['Predicted'], margins=True)\n",
    "cross_table_test = pd.crosstab(y_test, predict_test, rownames=['Actual'], colnames=['Predicted'], margins=True)\n",
    "\n",
    "display(\"eğitim veri kümesi confusion matrix\",cross_table_train)\n",
    "display(\"**\"*20)\n",
    "display(\"test veri kümesi confusion matrix\",cross_table_test)\n"
   ]
  },
  {
   "cell_type": "code",
   "execution_count": 96,
   "id": "b76c8c6f",
   "metadata": {},
   "outputs": [
    {
     "name": "stdout",
     "output_type": "stream",
     "text": [
      "eğitim veri kümesi metrikleri \n",
      "              precision    recall  f1-score   support\n",
      "\n",
      "         0.0       0.85      0.87      0.86       439\n",
      "         1.0       0.78      0.75      0.76       273\n",
      "\n",
      "    accuracy                           0.82       712\n",
      "   macro avg       0.81      0.81      0.81       712\n",
      "weighted avg       0.82      0.82      0.82       712\n",
      "\n",
      "------------------------------------------------------------\n",
      "test veri kümesi metrikleri \n",
      "              precision    recall  f1-score   support\n",
      "\n",
      "         0.0       0.82      0.89      0.86       110\n",
      "         1.0       0.80      0.70      0.74        69\n",
      "\n",
      "    accuracy                           0.82       179\n",
      "   macro avg       0.81      0.79      0.80       179\n",
      "weighted avg       0.81      0.82      0.81       179\n",
      "\n"
     ]
    }
   ],
   "source": [
    "#metrikler\n",
    "\n",
    "from sklearn.metrics import classification_report\n",
    "\n",
    "train_metrics = classification_report(y_train,predict_train)\n",
    "test_metrics = classification_report(y_test,predict_test)\n",
    "\n",
    "print(\"eğitim veri kümesi metrikleri \", train_metrics ,sep = \"\\n\")\n",
    "print(\"--\"*30)\n",
    "print(\"test veri kümesi metrikleri \", test_metrics ,sep = \"\\n\")\n"
   ]
  },
  {
   "cell_type": "code",
   "execution_count": 97,
   "id": "8608003d",
   "metadata": {},
   "outputs": [
    {
     "name": "stdout",
     "output_type": "stream",
     "text": [
      "Veri kümesindeki satır sayısı: 891\n",
      "Eğitim veri kümesindeki satur sayısı: 712\n",
      "Test veri kümesindeki satır sayısı: 179\n"
     ]
    }
   ],
   "source": [
    "import seaborn as sns\n",
    "import matplotlib.pyplot as plt\n",
    "\n",
    "plt.style.use(\"fivethirtyeight\")\n",
    "\n",
    "print(\"Veri kümesindeki satır sayısı:\",len(y))\n",
    "print(\"Eğitim veri kümesindeki satur sayısı:\",len(y_train))\n",
    "print(\"Test veri kümesindeki satır sayısı:\",len(y_test))"
   ]
  },
  {
   "cell_type": "code",
   "execution_count": 98,
   "id": "9f39bc31",
   "metadata": {},
   "outputs": [
    {
     "data": {
      "image/png": "[encoded data removed]",
      "text/plain": [
       "<Figure size 1080x360 with 3 Axes>"
      ]
     },
     "metadata": {},
     "output_type": "display_data"
    },
    {
     "name": "stdout",
     "output_type": "stream",
     "text": [
      "Tüm veri seti için hayatta kalanların (y=1) oranı: 38.38383838383838\n",
      "Eğitim veri seti için hayatta kalanların (y_train=1) oranı: 38.342696629213485\n",
      "Test veri seti için hayatta kalanların (y_test=1) oranı: 38.547486033519554\n"
     ]
    }
   ],
   "source": [
    "plt.figure(figsize=(15,5))\n",
    "plt.subplot(131)\n",
    "sns.countplot(y)\n",
    "plt.title(\"tüm veriler\")\n",
    "plt.subplot(132)\n",
    "sns.countplot(y_train)\n",
    "plt.title(\"eğitim kümesindeki veriler\")\n",
    "plt.subplot(133)\n",
    "sns.countplot(y_test)\n",
    "plt.title(\"test kümesindeki veriler\")\n",
    "plt.show()\n",
    "\n",
    "print(\"Tüm veri seti için hayatta kalanların (y=1) oranı:\", len(y[y==1])/len(y)*100)\n",
    "print(\"Eğitim veri seti için hayatta kalanların (y_train=1) oranı:\", len(y_train[y_train==1])/len(y_train)*100)\n",
    "print(\"Test veri seti için hayatta kalanların (y_test=1) oranı:\", len(y_test[y_test==1])/len(y_test)*100)\n"
   ]
  },
  {
   "cell_type": "markdown",
   "id": "da484f6c",
   "metadata": {},
   "source": [
    "Tüm veri setleri için de hayatta kalanların oranı birbirine oldukça yakın.Ancak X değerlerinin nasıl dağıldığını bilmiyoruz. İşte bunun için çapraz doğrulamaya ihtiyaç duyacağız."
   ]
  },
  {
   "cell_type": "markdown",
   "id": "566537a4",
   "metadata": {},
   "source": [
    "### cross_val_score ve cross_validate ile çapraz doğrulama\n"
   ]
  },
  {
   "cell_type": "code",
   "execution_count": 99,
   "id": "7eba5f9b",
   "metadata": {},
   "outputs": [
    {
     "name": "stdout",
     "output_type": "stream",
     "text": [
      "eğitim kümesi skorları:\n",
      "[0.82521848 0.81795511 0.82543641 0.81795511 0.82418953 0.82294264\n",
      " 0.81670823 0.819202   0.81546135 0.82169576]\n",
      "--------------------------------------------------\n",
      "test kümesi skorları:\n",
      "[0.82222222 0.84269663 0.76404494 0.86516854 0.80898876 0.76404494\n",
      " 0.80898876 0.82022472 0.84269663 0.82022472]\n"
     ]
    }
   ],
   "source": [
    "from sklearn.model_selection import cross_validate,cross_val_score\n",
    "\n",
    "cv = cross_validate(estimator=log_reg,\n",
    "                   X=X,\n",
    "                   y=y,\n",
    "                    return_train_score=True,\n",
    "                   cv=10)\n",
    "\n",
    "print(\"eğitim kümesi skorları:\",cv[\"train_score\"], sep=\"\\n\")\n",
    "print(\"-\"*50)\n",
    "print(\"test kümesi skorları:\", cv[\"test_score\"], sep=\"\\n\")"
   ]
  },
  {
   "cell_type": "code",
   "execution_count": 100,
   "id": "53f357c7",
   "metadata": {},
   "outputs": [
    {
     "name": "stdout",
     "output_type": "stream",
     "text": [
      "Test Kümesi   Ortalaması :  0.8159300873907614\n",
      "Eğitim Kümesi Ortalaması :  0.8206764611567212\n"
     ]
    }
   ],
   "source": [
    "print('Test Kümesi   Ortalaması : ', cv['test_score'].mean())\n",
    "print('Eğitim Kümesi Ortalaması : ', cv['train_score'].mean())"
   ]
  },
  {
   "cell_type": "code",
   "execution_count": 101,
   "id": "8ab51259",
   "metadata": {},
   "outputs": [],
   "source": [
    "cv = cross_validate(estimator=log_reg, \n",
    "                     X=X,\n",
    "                     y=y,\n",
    "                     cv=10,\n",
    "                    return_train_score=True,\n",
    "\n",
    "                     scoring = ['accuracy', 'precision', 'r2']\n",
    "                    )\n"
   ]
  },
  {
   "cell_type": "code",
   "execution_count": 104,
   "id": "9455865e",
   "metadata": {},
   "outputs": [
    {
     "name": "stdout",
     "output_type": "stream",
     "text": [
      "Test Kümesi Doğruluk Ortalaması     : 0.816\n",
      "Test Kümesi Hassasiyet Ortalaması   : 0.776\n",
      "Eğitim Kümesi Doğruluk Ortalaması   : 0.821\n",
      "Eğitim Kümesi Hassasiyet Ortalaması : 0.781\n"
     ]
    }
   ],
   "source": [
    "print('Test Kümesi Doğruluk Ortalaması     : {:.3f}'.format(cv['test_accuracy'].mean()))\n",
    "print('Test Kümesi Hassasiyet Ortalaması   : {:.3f}'.format(cv['test_precision'].mean()))\n",
    "print('Eğitim Kümesi Doğruluk Ortalaması   : {:.3f}'.format(cv['train_accuracy'].mean()))\n",
    "print('Eğitim Kümesi Hassasiyet Ortalaması : {:.3f}'.format(cv['train_precision'].mean()))"
   ]
  },
  {
   "cell_type": "code",
   "execution_count": 105,
   "id": "84357dde",
   "metadata": {},
   "outputs": [
    {
     "name": "stdout",
     "output_type": "stream",
     "text": [
      "[0. 1. 1. 1. 0. 0. 0. 0. 1. 1.]\n"
     ]
    }
   ],
   "source": [
    "from sklearn.model_selection import cross_val_predict\n",
    "y_tahmin = cross_val_predict(estimator=log_reg, X=X, y=y, cv=10)\n",
    "print(y_tahmin[0:10])"
   ]
  },
  {
   "cell_type": "markdown",
   "id": "e7631cb6",
   "metadata": {},
   "source": [
    "#### Hiperparametre ayarlama"
   ]
  },
  {
   "cell_type": "code",
   "execution_count": 106,
   "id": "5f61ad24",
   "metadata": {},
   "outputs": [],
   "source": [
    "parametreler = {\"C\":[10**x for x in range(-5,5,1)],\n",
    "               \"penalty\":['l1','l2']}"
   ]
  },
  {
   "cell_type": "markdown",
   "id": "47f0e8c7",
   "metadata": {},
   "source": [
    "#### GridSearchCV ile Hiperparametre Ayarı"
   ]
  },
  {
   "cell_type": "code",
   "execution_count": 107,
   "id": "bbee582d",
   "metadata": {},
   "outputs": [
    {
     "data": {
      "text/plain": [
       "GridSearchCV(cv=10, estimator=LogisticRegression(solver='liblinear'),\n",
       "             param_grid={'C': [1e-05, 0.0001, 0.001, 0.01, 0.1, 1, 10, 100,\n",
       "                               1000, 10000],\n",
       "                         'penalty': ['l1', 'l2']})"
      ]
     },
     "execution_count": 107,
     "metadata": {},
     "output_type": "execute_result"
    }
   ],
   "source": [
    "from sklearn.model_selection import GridSearchCV\n",
    "\n",
    "grid_cv = GridSearchCV(estimator=log_reg,\n",
    "                      param_grid=parametreler,\n",
    "                      cv=10)\n",
    "\n",
    "grid_cv.fit(X,y)"
   ]
  },
  {
   "cell_type": "code",
   "execution_count": 108,
   "id": "5784162c",
   "metadata": {},
   "outputs": [
    {
     "name": "stdout",
     "output_type": "stream",
     "text": [
      "en iyi parametreler: {'C': 1, 'penalty': 'l1'}\n",
      "en iyi skor:  0.8181772784019975\n"
     ]
    }
   ],
   "source": [
    "print(\"en iyi parametreler:\", grid_cv.best_params_)\n",
    "print(\"en iyi skor: \", grid_cv.best_score_)"
   ]
  },
  {
   "cell_type": "code",
   "execution_count": 109,
   "id": "2df52e53",
   "metadata": {},
   "outputs": [
    {
     "data": {
      "text/html": [
       "<div>\n",
       "<style scoped>\n",
       "    .dataframe tbody tr th:only-of-type {\n",
       "        vertical-align: middle;\n",
       "    }\n",
       "\n",
       "    .dataframe tbody tr th {\n",
       "        vertical-align: top;\n",
       "    }\n",
       "\n",
       "    .dataframe thead th {\n",
       "        text-align: right;\n",
       "    }\n",
       "</style>\n",
       "<table border=\"1\" class=\"dataframe\">\n",
       "  <thead>\n",
       "    <tr style=\"text-align: right;\">\n",
       "      <th></th>\n",
       "      <th>mean_fit_time</th>\n",
       "      <th>std_fit_time</th>\n",
       "      <th>mean_score_time</th>\n",
       "      <th>std_score_time</th>\n",
       "      <th>param_C</th>\n",
       "      <th>param_penalty</th>\n",
       "      <th>params</th>\n",
       "      <th>split0_test_score</th>\n",
       "      <th>split1_test_score</th>\n",
       "      <th>split2_test_score</th>\n",
       "      <th>split3_test_score</th>\n",
       "      <th>split4_test_score</th>\n",
       "      <th>split5_test_score</th>\n",
       "      <th>split6_test_score</th>\n",
       "      <th>split7_test_score</th>\n",
       "      <th>split8_test_score</th>\n",
       "      <th>split9_test_score</th>\n",
       "      <th>mean_test_score</th>\n",
       "      <th>std_test_score</th>\n",
       "      <th>rank_test_score</th>\n",
       "    </tr>\n",
       "  </thead>\n",
       "  <tbody>\n",
       "    <tr>\n",
       "      <th>0</th>\n",
       "      <td>0.002795</td>\n",
       "      <td>0.001074</td>\n",
       "      <td>0.001796</td>\n",
       "      <td>0.000600</td>\n",
       "      <td>0.00001</td>\n",
       "      <td>l1</td>\n",
       "      <td>{'C': 1e-05, 'penalty': 'l1'}</td>\n",
       "      <td>0.611111</td>\n",
       "      <td>0.617978</td>\n",
       "      <td>0.617978</td>\n",
       "      <td>0.617978</td>\n",
       "      <td>0.617978</td>\n",
       "      <td>0.617978</td>\n",
       "      <td>0.617978</td>\n",
       "      <td>0.617978</td>\n",
       "      <td>0.617978</td>\n",
       "      <td>0.606742</td>\n",
       "      <td>0.616167</td>\n",
       "      <td>0.003750</td>\n",
       "      <td>19</td>\n",
       "    </tr>\n",
       "    <tr>\n",
       "      <th>1</th>\n",
       "      <td>0.001300</td>\n",
       "      <td>0.001346</td>\n",
       "      <td>0.000595</td>\n",
       "      <td>0.000792</td>\n",
       "      <td>0.00001</td>\n",
       "      <td>l2</td>\n",
       "      <td>{'C': 1e-05, 'penalty': 'l2'}</td>\n",
       "      <td>0.533333</td>\n",
       "      <td>0.573034</td>\n",
       "      <td>0.674157</td>\n",
       "      <td>0.730337</td>\n",
       "      <td>0.651685</td>\n",
       "      <td>0.640449</td>\n",
       "      <td>0.640449</td>\n",
       "      <td>0.674157</td>\n",
       "      <td>0.696629</td>\n",
       "      <td>0.629213</td>\n",
       "      <td>0.644345</td>\n",
       "      <td>0.054432</td>\n",
       "      <td>17</td>\n",
       "    </tr>\n",
       "    <tr>\n",
       "      <th>2</th>\n",
       "      <td>0.003439</td>\n",
       "      <td>0.006169</td>\n",
       "      <td>0.001580</td>\n",
       "      <td>0.004741</td>\n",
       "      <td>0.0001</td>\n",
       "      <td>l1</td>\n",
       "      <td>{'C': 0.0001, 'penalty': 'l1'}</td>\n",
       "      <td>0.611111</td>\n",
       "      <td>0.617978</td>\n",
       "      <td>0.617978</td>\n",
       "      <td>0.617978</td>\n",
       "      <td>0.617978</td>\n",
       "      <td>0.617978</td>\n",
       "      <td>0.617978</td>\n",
       "      <td>0.617978</td>\n",
       "      <td>0.617978</td>\n",
       "      <td>0.606742</td>\n",
       "      <td>0.616167</td>\n",
       "      <td>0.003750</td>\n",
       "      <td>19</td>\n",
       "    </tr>\n",
       "    <tr>\n",
       "      <th>3</th>\n",
       "      <td>0.004683</td>\n",
       "      <td>0.007154</td>\n",
       "      <td>0.000000</td>\n",
       "      <td>0.000000</td>\n",
       "      <td>0.0001</td>\n",
       "      <td>l2</td>\n",
       "      <td>{'C': 0.0001, 'penalty': 'l2'}</td>\n",
       "      <td>0.588889</td>\n",
       "      <td>0.606742</td>\n",
       "      <td>0.674157</td>\n",
       "      <td>0.741573</td>\n",
       "      <td>0.674157</td>\n",
       "      <td>0.640449</td>\n",
       "      <td>0.674157</td>\n",
       "      <td>0.707865</td>\n",
       "      <td>0.707865</td>\n",
       "      <td>0.606742</td>\n",
       "      <td>0.662260</td>\n",
       "      <td>0.047852</td>\n",
       "      <td>16</td>\n",
       "    </tr>\n",
       "    <tr>\n",
       "      <th>4</th>\n",
       "      <td>0.009373</td>\n",
       "      <td>0.007653</td>\n",
       "      <td>0.004686</td>\n",
       "      <td>0.007158</td>\n",
       "      <td>0.001</td>\n",
       "      <td>l1</td>\n",
       "      <td>{'C': 0.001, 'penalty': 'l1'}</td>\n",
       "      <td>0.500000</td>\n",
       "      <td>0.573034</td>\n",
       "      <td>0.662921</td>\n",
       "      <td>0.741573</td>\n",
       "      <td>0.651685</td>\n",
       "      <td>0.651685</td>\n",
       "      <td>0.629213</td>\n",
       "      <td>0.674157</td>\n",
       "      <td>0.685393</td>\n",
       "      <td>0.629213</td>\n",
       "      <td>0.639888</td>\n",
       "      <td>0.062177</td>\n",
       "      <td>18</td>\n",
       "    </tr>\n",
       "  </tbody>\n",
       "</table>\n",
       "</div>"
      ],
      "text/plain": [
       "   mean_fit_time  std_fit_time  mean_score_time  std_score_time  param_C  \\\n",
       "0       0.002795      0.001074         0.001796        0.000600  0.00001   \n",
       "1       0.001300      0.001346         0.000595        0.000792  0.00001   \n",
       "2       0.003439      0.006169         0.001580        0.004741   0.0001   \n",
       "3       0.004683      0.007154         0.000000        0.000000   0.0001   \n",
       "4       0.009373      0.007653         0.004686        0.007158    0.001   \n",
       "\n",
       "  param_penalty                          params  split0_test_score  \\\n",
       "0            l1   {'C': 1e-05, 'penalty': 'l1'}           0.611111   \n",
       "1            l2   {'C': 1e-05, 'penalty': 'l2'}           0.533333   \n",
       "2            l1  {'C': 0.0001, 'penalty': 'l1'}           0.611111   \n",
       "3            l2  {'C': 0.0001, 'penalty': 'l2'}           0.588889   \n",
       "4            l1   {'C': 0.001, 'penalty': 'l1'}           0.500000   \n",
       "\n",
       "   split1_test_score  split2_test_score  split3_test_score  split4_test_score  \\\n",
       "0           0.617978           0.617978           0.617978           0.617978   \n",
       "1           0.573034           0.674157           0.730337           0.651685   \n",
       "2           0.617978           0.617978           0.617978           0.617978   \n",
       "3           0.606742           0.674157           0.741573           0.674157   \n",
       "4           0.573034           0.662921           0.741573           0.651685   \n",
       "\n",
       "   split5_test_score  split6_test_score  split7_test_score  split8_test_score  \\\n",
       "0           0.617978           0.617978           0.617978           0.617978   \n",
       "1           0.640449           0.640449           0.674157           0.696629   \n",
       "2           0.617978           0.617978           0.617978           0.617978   \n",
       "3           0.640449           0.674157           0.707865           0.707865   \n",
       "4           0.651685           0.629213           0.674157           0.685393   \n",
       "\n",
       "   split9_test_score  mean_test_score  std_test_score  rank_test_score  \n",
       "0           0.606742         0.616167        0.003750               19  \n",
       "1           0.629213         0.644345        0.054432               17  \n",
       "2           0.606742         0.616167        0.003750               19  \n",
       "3           0.606742         0.662260        0.047852               16  \n",
       "4           0.629213         0.639888        0.062177               18  "
      ]
     },
     "execution_count": 109,
     "metadata": {},
     "output_type": "execute_result"
    }
   ],
   "source": [
    "import pandas as pd          \n",
    "sonuçlar = grid_cv.cv_results_\n",
    "df = pd.DataFrame(sonuçlar)\n",
    "df.head()"
   ]
  },
  {
   "cell_type": "code",
   "execution_count": 110,
   "id": "5bf92036",
   "metadata": {},
   "outputs": [
    {
     "data": {
      "text/html": [
       "<div>\n",
       "<style scoped>\n",
       "    .dataframe tbody tr th:only-of-type {\n",
       "        vertical-align: middle;\n",
       "    }\n",
       "\n",
       "    .dataframe tbody tr th {\n",
       "        vertical-align: top;\n",
       "    }\n",
       "\n",
       "    .dataframe thead th {\n",
       "        text-align: right;\n",
       "    }\n",
       "</style>\n",
       "<table border=\"1\" class=\"dataframe\">\n",
       "  <thead>\n",
       "    <tr style=\"text-align: right;\">\n",
       "      <th></th>\n",
       "      <th>param_penalty</th>\n",
       "      <th>param_C</th>\n",
       "      <th>mean_test_score</th>\n",
       "    </tr>\n",
       "  </thead>\n",
       "  <tbody>\n",
       "    <tr>\n",
       "      <th>10</th>\n",
       "      <td>l1</td>\n",
       "      <td>1</td>\n",
       "      <td>0.818177</td>\n",
       "    </tr>\n",
       "    <tr>\n",
       "      <th>11</th>\n",
       "      <td>l2</td>\n",
       "      <td>1</td>\n",
       "      <td>0.815930</td>\n",
       "    </tr>\n",
       "    <tr>\n",
       "      <th>13</th>\n",
       "      <td>l2</td>\n",
       "      <td>10</td>\n",
       "      <td>0.814806</td>\n",
       "    </tr>\n",
       "    <tr>\n",
       "      <th>12</th>\n",
       "      <td>l1</td>\n",
       "      <td>10</td>\n",
       "      <td>0.814806</td>\n",
       "    </tr>\n",
       "    <tr>\n",
       "      <th>19</th>\n",
       "      <td>l2</td>\n",
       "      <td>10000</td>\n",
       "      <td>0.813695</td>\n",
       "    </tr>\n",
       "  </tbody>\n",
       "</table>\n",
       "</div>"
      ],
      "text/plain": [
       "   param_penalty param_C  mean_test_score\n",
       "10            l1       1         0.818177\n",
       "11            l2       1         0.815930\n",
       "13            l2      10         0.814806\n",
       "12            l1      10         0.814806\n",
       "19            l2   10000         0.813695"
      ]
     },
     "execution_count": 110,
     "metadata": {},
     "output_type": "execute_result"
    }
   ],
   "source": [
    "df = df[['param_penalty','param_C', 'mean_test_score']]\n",
    "df = df.sort_values(by='mean_test_score', ascending = False)\n",
    "df.head()"
   ]
  },
  {
   "cell_type": "code",
   "execution_count": 111,
   "id": "17d50556",
   "metadata": {},
   "outputs": [
    {
     "data": {
      "image/png": "[encoded data removed]",
      "text/plain": [
       "<Figure size 648x432 with 1 Axes>"
      ]
     },
     "metadata": {},
     "output_type": "display_data"
    }
   ],
   "source": [
    "plt.style.use('fivethirtyeight')\n",
    "plt.figure(figsize=(9,6))\n",
    "sns.scatterplot(x = 'param_C', y = 'mean_test_score', hue = 'param_penalty', data = df[0:20], s=200)\n",
    "plt.xscale('log')\n",
    "plt.ylim((0.5,1))\n",
    "plt.show()"
   ]
  },
  {
   "cell_type": "markdown",
   "id": "b887dbab",
   "metadata": {},
   "source": [
    "#### RandomizedSearchCV ile Hiperparametre Ayarı"
   ]
  },
  {
   "cell_type": "code",
   "execution_count": 112,
   "id": "68e0f3b7",
   "metadata": {},
   "outputs": [],
   "source": [
    "parametreler = {\"C\": [10 ** x for x in range (-5, 5, 1)],\n",
    "                \"penalty\": ['l1', 'l2']\n",
    "                }"
   ]
  },
  {
   "cell_type": "code",
   "execution_count": 113,
   "id": "f60e13e6",
   "metadata": {},
   "outputs": [
    {
     "data": {
      "text/plain": [
       "RandomizedSearchCV(cv=10, estimator=LogisticRegression(solver='liblinear'),\n",
       "                   param_distributions={'C': [1e-05, 0.0001, 0.001, 0.01, 0.1,\n",
       "                                              1, 10, 100, 1000, 10000],\n",
       "                                        'penalty': ['l1', 'l2']},\n",
       "                   random_state=111, scoring='precision')"
      ]
     },
     "execution_count": 113,
     "metadata": {},
     "output_type": "execute_result"
    }
   ],
   "source": [
    "from sklearn.model_selection import RandomizedSearchCV\n",
    "rs_cv = RandomizedSearchCV(estimator=log_reg,\n",
    "                           param_distributions = parametreler,\n",
    "                           cv = 10,\n",
    "                           n_iter = 10,\n",
    "                           random_state = 111,\n",
    "                           scoring = 'precision'\n",
    "                      )\n",
    "rs_cv.fit(X, y)"
   ]
  },
  {
   "cell_type": "code",
   "execution_count": 114,
   "id": "756b44cc",
   "metadata": {},
   "outputs": [
    {
     "name": "stdout",
     "output_type": "stream",
     "text": [
      "En iyi parametreler        :  {'penalty': 'l1', 'C': 1000}\n",
      "Tüm hassasiyet değerleri   :  [0.65634031 0.73705362 0.77522766 0.7755645  0.77547354 0.77204612\n",
      " 0.70738589 0.70749429 0.77613492 0.        ]\n",
      "En iyi skor   :  0.7761349154313926\n"
     ]
    }
   ],
   "source": [
    "print(\"En iyi parametreler        : \", rs_cv.best_params_)\n",
    "print(\"Tüm hassasiyet değerleri   : \", rs_cv.cv_results_['mean_test_score'])\n",
    "print(\"En iyi skor   : \", rs_cv.best_score_)"
   ]
  },
  {
   "cell_type": "code",
   "execution_count": 115,
   "id": "368d9c4b",
   "metadata": {},
   "outputs": [],
   "source": [
    "sonuçlar_rs = rs_cv.cv_results_\n",
    "df_rs = pd.DataFrame(sonuçlar_rs)"
   ]
  },
  {
   "cell_type": "code",
   "execution_count": 116,
   "id": "b3deac81",
   "metadata": {},
   "outputs": [
    {
     "data": {
      "text/html": [
       "<div>\n",
       "<style scoped>\n",
       "    .dataframe tbody tr th:only-of-type {\n",
       "        vertical-align: middle;\n",
       "    }\n",
       "\n",
       "    .dataframe tbody tr th {\n",
       "        vertical-align: top;\n",
       "    }\n",
       "\n",
       "    .dataframe thead th {\n",
       "        text-align: right;\n",
       "    }\n",
       "</style>\n",
       "<table border=\"1\" class=\"dataframe\">\n",
       "  <thead>\n",
       "    <tr style=\"text-align: right;\">\n",
       "      <th></th>\n",
       "      <th>param_penalty</th>\n",
       "      <th>param_C</th>\n",
       "      <th>mean_test_score</th>\n",
       "    </tr>\n",
       "  </thead>\n",
       "  <tbody>\n",
       "    <tr>\n",
       "      <th>8</th>\n",
       "      <td>l1</td>\n",
       "      <td>1000</td>\n",
       "      <td>0.776135</td>\n",
       "    </tr>\n",
       "    <tr>\n",
       "      <th>3</th>\n",
       "      <td>l2</td>\n",
       "      <td>1</td>\n",
       "      <td>0.775565</td>\n",
       "    </tr>\n",
       "    <tr>\n",
       "      <th>4</th>\n",
       "      <td>l1</td>\n",
       "      <td>100</td>\n",
       "      <td>0.775474</td>\n",
       "    </tr>\n",
       "    <tr>\n",
       "      <th>2</th>\n",
       "      <td>l2</td>\n",
       "      <td>10</td>\n",
       "      <td>0.775228</td>\n",
       "    </tr>\n",
       "    <tr>\n",
       "      <th>5</th>\n",
       "      <td>l2</td>\n",
       "      <td>1000</td>\n",
       "      <td>0.772046</td>\n",
       "    </tr>\n",
       "  </tbody>\n",
       "</table>\n",
       "</div>"
      ],
      "text/plain": [
       "  param_penalty param_C  mean_test_score\n",
       "8            l1    1000         0.776135\n",
       "3            l2       1         0.775565\n",
       "4            l1     100         0.775474\n",
       "2            l2      10         0.775228\n",
       "5            l2    1000         0.772046"
      ]
     },
     "execution_count": 116,
     "metadata": {},
     "output_type": "execute_result"
    }
   ],
   "source": [
    "sonuçlar_rs = rs_cv.cv_results_\n",
    "df_rs = pd.DataFrame(sonuçlar_rs)\n",
    "df_rs = df_rs[['param_penalty','param_C', 'mean_test_score']]\n",
    "df_rs = df_rs.sort_values(by='mean_test_score', ascending = False)\n",
    "df_rs.head()"
   ]
  },
  {
   "cell_type": "code",
   "execution_count": 117,
   "id": "575402b6",
   "metadata": {},
   "outputs": [
    {
     "data": {
      "image/png": "[encoded data removed]",
      "text/plain": [
       "<Figure size 648x432 with 1 Axes>"
      ]
     },
     "metadata": {},
     "output_type": "display_data"
    }
   ],
   "source": [
    "plt.style.use('fivethirtyeight')\n",
    "plt.figure(figsize=(9,6))\n",
    "sns.scatterplot(x = 'param_C', y = 'mean_test_score', hue = 'param_penalty', data = df_rs, s=200)\n",
    "plt.xscale('log')\n",
    "plt.ylim((0.6,1))\n",
    "plt.show()"
   ]
  },
  {
   "cell_type": "markdown",
   "id": "47627c80",
   "metadata": {},
   "source": [
    "Sonuc: Hiperparametre ayarlaması ile en uygun hiperparametreleri elde ettik.Buna göre en uygun hiperparametre değerleri GridSearchCV yöntemiyle elde ettiğimiz {'C': 1, 'penalty': 'l1'} parametreleri olup en iyi skor:  0.818'dir."
   ]
  },
  {
   "cell_type": "code",
   "execution_count": null,
   "id": "1521a2c8",
   "metadata": {},
   "outputs": [],
   "source": []
  }
 ],
 "metadata": {
  "kernelspec": {
   "display_name": "Python 3",
   "language": "python",
   "name": "python3"
  },
  "language_info": {
   "codemirror_mode": {
    "name": "ipython",
    "version": 3
   },
   "file_extension": ".py",
   "mimetype": "text/x-python",
   "name": "python",
   "nbconvert_exporter": "python",
   "pygments_lexer": "ipython3",
   "version": "3.8.8"
  }
 },
 "nbformat": 4,
 "nbformat_minor": 5
}
