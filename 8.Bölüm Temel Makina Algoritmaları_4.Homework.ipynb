{
 "cells": [
  {
   "cell_type": "code",
   "execution_count": 6,
   "id": "e570e434",
   "metadata": {},
   "outputs": [],
   "source": [
    "import pandas as pd\n",
    "import numpy as np\n",
    "import matplotlib.pyplot as plt\n",
    "import seaborn as sns\n",
    "from sklearn.decomposition import PCA\n",
    "from scipy.stats.mstats import winsorize\n",
    "from sklearn.preprocessing import PolynomialFeatures\n",
    "from sklearn.metrics import mean_squared_error as MSE\n",
    "\n",
    "import statsmodels.api as sm\n",
    "from sklearn import linear_model\n",
    "from sklearn.linear_model import LinearRegression\n",
    "from statsmodels.tools.eval_measures import mse, rmse\n",
    "from sklearn.model_selection import train_test_split\n",
    "from sklearn.metrics import mean_absolute_error,accuracy_score\n",
    "from scipy.stats import jarque_bera\n",
    "from scipy.stats import normaltest\n",
    "import warnings\n",
    "pd.options.display.max_columns = None\n",
    "warnings.filterwarnings('ignore')\n",
    "sns.set_style(\"whitegrid\")\n",
    "baslik_font = {'family': 'arial', 'color': 'darkred','weight': 'bold','size': 13 }\n",
    "eksen_font  = {'family': 'arial', 'color': 'darkblue','weight': 'bold','size': 10 }"
   ]
  },
  {
   "cell_type": "markdown",
   "id": "9b2019e0",
   "metadata": {},
   "source": [
    "## with Regression Project"
   ]
  },
  {
   "cell_type": "code",
   "execution_count": 7,
   "id": "55770c36",
   "metadata": {},
   "outputs": [],
   "source": [
    "df_energy_app = pd.read_csv(\"clean_energy_appliances\")"
   ]
  },
  {
   "cell_type": "code",
   "execution_count": 8,
   "id": "a0c36738",
   "metadata": {},
   "outputs": [],
   "source": [
    "features = ['lights', 'T1', 'RH_1', 'T2', 'RH_2', 'T3', 'RH_3',\n",
    "         'RH_6',  'RH_7',  'RH_8','hour1', 'house_T',   \n",
    "             'tout_tdewpoint', 'hour*2', \n",
    "         'hour_avg', 'low_consum', \n",
    "          'high_consum']\n",
    "\n",
    "y= df_energy_app[\"Appliances\"]\n",
    "y = (y<y.mean()).astype(int)\n",
    "X = df_energy_app[features]\n",
    "X_train,X_test,y_train,y_test = train_test_split(X,y,test_size=0.2,random_state=40)"
   ]
  },
  {
   "cell_type": "markdown",
   "id": "ecee642d",
   "metadata": {},
   "source": [
    "### KNN"
   ]
  },
  {
   "cell_type": "code",
   "execution_count": 9,
   "id": "0d706521",
   "metadata": {},
   "outputs": [
    {
     "data": {
      "text/plain": [
       "0.8389057750759878"
      ]
     },
     "execution_count": 9,
     "metadata": {},
     "output_type": "execute_result"
    }
   ],
   "source": [
    "from sklearn.neighbors import KNeighborsClassifier\n",
    "from sklearn.model_selection import train_test_split\n",
    "knn_model = KNeighborsClassifier(n_neighbors=3)\n",
    "\n",
    "\n",
    "knn_model.fit(X_train,y_train)\n",
    "knn_model.score(X_test,y_test)\n"
   ]
  },
  {
   "cell_type": "code",
   "execution_count": 10,
   "id": "35af9f14",
   "metadata": {},
   "outputs": [
    {
     "data": {
      "text/plain": [
       "0.4013654505858871"
      ]
     },
     "execution_count": 10,
     "metadata": {},
     "output_type": "execute_result"
    }
   ],
   "source": [
    "y_predict = knn_model.predict(X_test)\n",
    "mse_predict = MSE(y_predict,y_test)\n",
    "rmse_score = mse_predict**(1/2)\n",
    "rmse_score"
   ]
  },
  {
   "cell_type": "markdown",
   "id": "df8b7723",
   "metadata": {},
   "source": [
    "### DecisionTreeRegression"
   ]
  },
  {
   "cell_type": "code",
   "execution_count": 11,
   "id": "6f3fac0a",
   "metadata": {},
   "outputs": [
    {
     "data": {
      "text/plain": [
       "DecisionTreeRegressor(max_depth=4)"
      ]
     },
     "execution_count": 11,
     "metadata": {},
     "output_type": "execute_result"
    }
   ],
   "source": [
    "from sklearn.metrics import mean_squared_error\n",
    "from sklearn.tree import DecisionTreeRegressor\n",
    "dec_tree_reg = DecisionTreeRegressor(max_depth=4)\n",
    "y = df_energy_app[\"Appliances\"]\n",
    "X = df_energy_app[features]\n",
    "\n",
    "dec_tree_reg.fit(X_train,y_train)"
   ]
  },
  {
   "cell_type": "code",
   "execution_count": 12,
   "id": "780deacd",
   "metadata": {},
   "outputs": [],
   "source": [
    "from sklearn.metrics import mean_squared_error as MSE\n",
    "y_predict = dec_tree_reg.predict(X_test)\n",
    "mse_predict = MSE(y_predict,y_test)\n",
    "rmse_score = mse_predict**(1/2)"
   ]
  },
  {
   "cell_type": "code",
   "execution_count": 13,
   "id": "c5c9f08c",
   "metadata": {},
   "outputs": [
    {
     "data": {
      "text/plain": [
       "0.30225000072695846"
      ]
     },
     "execution_count": 13,
     "metadata": {},
     "output_type": "execute_result"
    }
   ],
   "source": [
    "rmse_score"
   ]
  },
  {
   "cell_type": "code",
   "execution_count": 14,
   "id": "24f823a5",
   "metadata": {},
   "outputs": [
    {
     "data": {
      "text/plain": [
       "0.6240737770822453"
      ]
     },
     "execution_count": 14,
     "metadata": {},
     "output_type": "execute_result"
    }
   ],
   "source": [
    "dec_tree_reg.score(X_test,y_test)"
   ]
  },
  {
   "cell_type": "markdown",
   "id": "e1bda7cd",
   "metadata": {},
   "source": [
    "### Random Forest"
   ]
  },
  {
   "cell_type": "code",
   "execution_count": 16,
   "id": "ac70c555",
   "metadata": {},
   "outputs": [],
   "source": [
    "from sklearn.ensemble import RandomForestClassifier\n",
    "\n",
    "from sklearn.metrics import accuracy_score\n",
    "random_forest = RandomForestClassifier(n_estimators=30,random_state=111)\n",
    "random_forest.fit(X_train,y_train)\n",
    "y_tahmin = random_forest.predict(X_test)\n",
    "rmse_score = MSE(y_test,y_tahmin)**(1/2)"
   ]
  },
  {
   "cell_type": "code",
   "execution_count": 17,
   "id": "bb169138",
   "metadata": {},
   "outputs": [
    {
     "data": {
      "text/plain": [
       "0.328485518040461"
      ]
     },
     "execution_count": 17,
     "metadata": {},
     "output_type": "execute_result"
    }
   ],
   "source": [
    "rmse_score"
   ]
  },
  {
   "cell_type": "code",
   "execution_count": 18,
   "id": "ab167b85",
   "metadata": {},
   "outputs": [
    {
     "data": {
      "text/plain": [
       "0.89209726443769"
      ]
     },
     "execution_count": 18,
     "metadata": {},
     "output_type": "execute_result"
    }
   ],
   "source": [
    "accuracy_score(y_test,y_tahmin)"
   ]
  },
  {
   "cell_type": "markdown",
   "id": "6303866a",
   "metadata": {},
   "source": [
    "### SVM"
   ]
  },
  {
   "cell_type": "code",
   "execution_count": 32,
   "id": "66c659d6",
   "metadata": {},
   "outputs": [
    {
     "data": {
      "text/plain": [
       "0.34432484776794703"
      ]
     },
     "execution_count": 32,
     "metadata": {},
     "output_type": "execute_result"
    }
   ],
   "source": [
    "from sklearn.svm import SVR\n",
    "\n",
    "svr_reg = SVR(kernel=\"linear\",C=1)\n",
    "svr_reg.fit(X_train,y_train)\n",
    "y_predict = svr_reg.predict(X_test)\n",
    "y_test = np.asanyarray(y_test)\n",
    "y_predict = np.asanyarray(y_predict)\n",
    "rmse_linear = MSE(y_test,y_predict)**(1/2)\n",
    "rmse_linear                                            #rmse değerini neden hesaplamadı?\n",
    "                                                #accuracy_score değeri için de hata veriyor"
   ]
  },
  {
   "cell_type": "code",
   "execution_count": 30,
   "id": "de227661",
   "metadata": {},
   "outputs": [
    {
     "data": {
      "text/plain": [
       "0.5121270624560583"
      ]
     },
     "execution_count": 30,
     "metadata": {},
     "output_type": "execute_result"
    }
   ],
   "source": [
    "svr_reg.score(X_test,y_test)"
   ]
  },
  {
   "cell_type": "code",
   "execution_count": null,
   "id": "b660a24b",
   "metadata": {},
   "outputs": [],
   "source": [
    "#parametre ayarı"
   ]
  },
  {
   "cell_type": "code",
   "execution_count": 34,
   "id": "7a29fe6d",
   "metadata": {},
   "outputs": [
    {
     "data": {
      "text/plain": [
       "0.32553471372445014"
      ]
     },
     "execution_count": 34,
     "metadata": {},
     "output_type": "execute_result"
    }
   ],
   "source": [
    "svr_reg = SVR(kernel=\"rbf\",C=100)\n",
    "svr_reg.fit(X_train,y_train)\n",
    "y_predict = svr_reg.predict(X_test)\n",
    "\n",
    "rmse_rbf = MSE(y_test,y_predict)**(1/2)\n",
    "rmse_rbf"
   ]
  },
  {
   "cell_type": "code",
   "execution_count": 35,
   "id": "8283e78e",
   "metadata": {},
   "outputs": [
    {
     "data": {
      "text/plain": [
       "0.32992924098012255"
      ]
     },
     "execution_count": 35,
     "metadata": {},
     "output_type": "execute_result"
    }
   ],
   "source": [
    "svr_reg = SVR(kernel=\"poly\",C=10)\n",
    "svr_reg.fit(X_train,y_train)\n",
    "y_predict = svr_reg.predict(X_test)\n",
    "\n",
    "rmse_poly = MSE(y_test,y_predict)**(1/2)\n",
    "rmse_poly"
   ]
  },
  {
   "cell_type": "markdown",
   "id": "9b91daef",
   "metadata": {},
   "source": [
    "## with Classification project"
   ]
  },
  {
   "cell_type": "code",
   "execution_count": 36,
   "id": "d672a5b5",
   "metadata": {},
   "outputs": [],
   "source": [
    "from sklearn.metrics import classification_report, precision_recall_fscore_support\n",
    "from sklearn.feature_extraction.text import CountVectorizer\n",
    "from sklearn.linear_model import LogisticRegression\n",
    "import os\n",
    "from nltk.corpus import stopwords\n",
    "from nltk.corpus import words\n",
    "from nltk.stem import PorterStemmer"
   ]
  },
  {
   "cell_type": "code",
   "execution_count": 37,
   "id": "2aa3f1bb",
   "metadata": {},
   "outputs": [],
   "source": [
    "df_bbc = pd.read_csv(\"clean_bbc\")"
   ]
  },
  {
   "cell_type": "code",
   "execution_count": 38,
   "id": "d054b6bf",
   "metadata": {},
   "outputs": [
    {
     "data": {
      "text/plain": [
       "CountVectorizer()"
      ]
     },
     "execution_count": 38,
     "metadata": {},
     "output_type": "execute_result"
    }
   ],
   "source": [
    "vectorizer = CountVectorizer()\n",
    "vectorizer.fit(df_bbc[\"text\"])"
   ]
  },
  {
   "cell_type": "code",
   "execution_count": 39,
   "id": "1734c967",
   "metadata": {},
   "outputs": [],
   "source": [
    "text_vector = vectorizer.fit_transform(df_bbc.text)\n",
    "text_vector_array = text_vector.toarray()\n",
    "features = vectorizer.get_feature_names()"
   ]
  },
  {
   "cell_type": "code",
   "execution_count": null,
   "id": "46348f06",
   "metadata": {},
   "outputs": [
    {
     "name": "stdout",
     "output_type": "stream",
     "text": [
      "[[0. 0. 0. ... 0. 0. 0.]\n",
      " [0. 0. 0. ... 0. 0. 0.]\n",
      " [0. 0. 0. ... 0. 0. 0.]\n",
      " ...\n",
      " [0. 0. 0. ... 0. 0. 0.]\n",
      " [0. 0. 0. ... 0. 0. 0.]\n",
      " [0. 0. 0. ... 0. 0. 0.]]\n"
     ]
    }
   ],
   "source": [
    "from sklearn.feature_extraction.text import TfidfVectorizer\n",
    "Tfidf_Vector = TfidfVectorizer(min_df = 0., max_df = 1., use_idf = True)\n",
    "Tfidf_Matrix = Tfidf_Vector.fit_transform(df_bbc.text)\n",
    "Tfidf_Matrix = Tfidf_Matrix.toarray()\n",
    "print(Tfidf_Matrix)\n",
    "\n",
    "features = Tfidf_Vector.get_feature_names()\n",
    "\n",
    "Tfidf_df = pd.DataFrame(Tfidf_Matrix, columns = features)\n",
    "Tfidf_df.head()"
   ]
  },
  {
   "cell_type": "code",
   "execution_count": null,
   "id": "0c42ddd3",
   "metadata": {},
   "outputs": [],
   "source": [
    "X_cl = Tfidf_Matrix\n",
    "y_cl = df_bbc.category.values"
   ]
  },
  {
   "cell_type": "code",
   "execution_count": null,
   "id": "aa1f1ff5",
   "metadata": {},
   "outputs": [],
   "source": [
    "X_train,X_test,y_train,y_test = train_test_split(X_cl,y_cl,test_size=0.2,random_state=111)"
   ]
  },
  {
   "cell_type": "code",
   "execution_count": null,
   "id": "9619035d",
   "metadata": {},
   "outputs": [],
   "source": [
    "y_cl"
   ]
  },
  {
   "cell_type": "markdown",
   "id": "ca1dc0cd",
   "metadata": {},
   "source": [
    "### KNN"
   ]
  },
  {
   "cell_type": "code",
   "execution_count": null,
   "id": "101ec0fa",
   "metadata": {},
   "outputs": [],
   "source": [
    "from sklearn.neighbors import KNeighborsClassifier\n",
    "from sklearn.model_selection import train_test_split\n",
    "knn_model = KNeighborsClassifier(n_neighbors=5)\n",
    "\n",
    "\n",
    "#y_predict = knn_model.predict(X_test)\n",
    "knn_model.fit(X_train,y_train)\n",
    "knn_model.score(X_test,y_test)"
   ]
  },
  {
   "cell_type": "code",
   "execution_count": null,
   "id": "d31366ae",
   "metadata": {},
   "outputs": [],
   "source": []
  },
  {
   "cell_type": "markdown",
   "id": "9f2323bd",
   "metadata": {},
   "source": [
    "### DecisionTreeClassifier"
   ]
  },
  {
   "cell_type": "code",
   "execution_count": null,
   "id": "4cf4e4af",
   "metadata": {},
   "outputs": [],
   "source": [
    "import scipy\n",
    "from sklearn.tree import DecisionTreeClassifier, export_graphviz\n",
    "import pydotplus\n",
    "import graphviz"
   ]
  },
  {
   "cell_type": "code",
   "execution_count": null,
   "id": "22ac63f0",
   "metadata": {},
   "outputs": [],
   "source": [
    "dec_tree_model = DecisionTreeClassifier(\n",
    "    criterion='entropy',\n",
    "    max_features=10,\n",
    "    max_depth=32,\n",
    "    random_state = 1337)\n",
    "\n",
    "dec_tree_model.fit(X_train,y_train)\n",
    "y_predict = dec_tree_model.predict(X_test)\n",
    "dec_tree_model.score(X_test,y_test)"
   ]
  },
  {
   "cell_type": "markdown",
   "id": "ae7661dd",
   "metadata": {},
   "source": [
    "### LogisticRegression"
   ]
  },
  {
   "cell_type": "code",
   "execution_count": null,
   "id": "c46294f5",
   "metadata": {},
   "outputs": [],
   "source": [
    "log_reg_model = LogisticRegression(multi_class=\"multinomial\",solver=\"lbfgs\")\n",
    "log_reg_model.fit(X_train,y_train)\n",
    "log_reg_model.score(X_test,y_test)"
   ]
  },
  {
   "cell_type": "code",
   "execution_count": null,
   "id": "e3a65fc3",
   "metadata": {},
   "outputs": [],
   "source": []
  },
  {
   "cell_type": "markdown",
   "id": "f4faf5f3",
   "metadata": {},
   "source": [
    "### RandomForest"
   ]
  },
  {
   "cell_type": "code",
   "execution_count": null,
   "id": "de64a620",
   "metadata": {},
   "outputs": [],
   "source": [
    "from sklearn.ensemble import RandomForestClassifier\n",
    "random_forest = RandomForestClassifier(n_estimators=30,random_state=111)\n",
    "random_forest.fit(X_train,y_train)\n",
    "y_predict = random_forest.predict(X_test)\n",
    "random_forest.score(X_test,y_test)"
   ]
  },
  {
   "cell_type": "markdown",
   "id": "9d235d05",
   "metadata": {},
   "source": [
    "### SVC"
   ]
  },
  {
   "cell_type": "code",
   "execution_count": null,
   "id": "20805f51",
   "metadata": {},
   "outputs": [],
   "source": [
    "from sklearn.svm import SVC\n",
    "\n",
    "svc = SVC(kernel=\"linear\",C=1)\n",
    "svc.fit(X_train,y_train)\n",
    "y_predict = svc.predict(X_test)\n",
    "accuracy_score(y_test,y_predict)"
   ]
  },
  {
   "cell_type": "code",
   "execution_count": null,
   "id": "98975137",
   "metadata": {},
   "outputs": [],
   "source": [
    "svc = SVC(kernel=\"rbf\",C=1)\n",
    "svc.fit(X_train,y_train)\n",
    "y_predict = svc.predict(X_test)\n",
    "accuracy_score(y_test,y_predict)"
   ]
  },
  {
   "cell_type": "code",
   "execution_count": null,
   "id": "d91589d8",
   "metadata": {},
   "outputs": [],
   "source": [
    "svc = SVC(kernel=\"poly\",C=1)\n",
    "svc.fit(X_train,y_train)\n",
    "y_predict = svc.predict(X_test)\n",
    "accuracy_score(y_test,y_predict)"
   ]
  },
  {
   "cell_type": "code",
   "execution_count": null,
   "id": "f7dcbb13",
   "metadata": {},
   "outputs": [],
   "source": []
  }
 ],
 "metadata": {
  "kernelspec": {
   "display_name": "Python 3",
   "language": "python",
   "name": "python3"
  },
  "language_info": {
   "codemirror_mode": {
    "name": "ipython",
    "version": 3
   },
   "file_extension": ".py",
   "mimetype": "text/x-python",
   "name": "python",
   "nbconvert_exporter": "python",
   "pygments_lexer": "ipython3",
   "version": "3.8.8"
  }
 },
 "nbformat": 4,
 "nbformat_minor": 5
}
