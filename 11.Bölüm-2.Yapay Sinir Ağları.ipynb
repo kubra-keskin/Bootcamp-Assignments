{
 "cells": [
  {
   "cell_type": "markdown",
   "id": "efde936d",
   "metadata": {},
   "source": [
    "1.Bir sinir ağında her biri 512 nöronlu üç katmanımız varsa, kaç parametreyi tahmin etmemiz gerekir?"
   ]
  },
  {
   "cell_type": "code",
   "execution_count": 8,
   "id": "6bb219e5",
   "metadata": {},
   "outputs": [
    {
     "data": {
      "text/plain": [
       "786432"
      ]
     },
     "execution_count": 8,
     "metadata": {},
     "output_type": "execute_result"
    }
   ],
   "source": [
    "(512*512)+(512*512)+(512*512)"
   ]
  },
  {
   "cell_type": "markdown",
   "id": "4a126b61",
   "metadata": {},
   "source": [
    "2.Bu işlevi tek bir tabaka (layer) kullanarak gerçekleştirmenin mümkün olduğunu düşünüyor musunuz? Yoksa birkaç birimden oluşan bir tabaka ile mi yapılabilir? tek tabaka ile yapılabilir."
   ]
  },
  {
   "cell_type": "code",
   "execution_count": null,
   "id": "617595fa",
   "metadata": {},
   "outputs": [],
   "source": [
    "3.Aşağıdaki ANN'nin çıktı değerini ReLU aktivasyon fonksiyonu kullanarak hesaplayın. (y=?)\n"
   ]
  },
  {
   "cell_type": "code",
   "execution_count": null,
   "id": "33f0a664",
   "metadata": {},
   "outputs": [],
   "source": [
    "[[2,1],[1,-6]]*[4,3]=[17,-14] #-14 relu'dan dolayı sıfır alınır.\n",
    "\n",
    "[[1,3],[2,3]]*[17,0]=[17,34]\n",
    "\n",
    "[-3,1]*[17,34]=-17 #sıfırdan küçük olduğu için sıfır kabul edilir.\n",
    "\n",
    "y=0\n"
   ]
  }
 ],
 "metadata": {
  "kernelspec": {
   "display_name": "Python 3",
   "language": "python",
   "name": "python3"
  },
  "language_info": {
   "codemirror_mode": {
    "name": "ipython",
    "version": 3
   },
   "file_extension": ".py",
   "mimetype": "text/x-python",
   "name": "python",
   "nbconvert_exporter": "python",
   "pygments_lexer": "ipython3",
   "version": "3.8.8"
  }
 },
 "nbformat": 4,
 "nbformat_minor": 5
}
