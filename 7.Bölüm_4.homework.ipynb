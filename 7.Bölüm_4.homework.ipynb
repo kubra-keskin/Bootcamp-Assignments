{
 "cells": [
  {
   "cell_type": "code",
   "execution_count": 1,
   "id": "62ebadde",
   "metadata": {},
   "outputs": [],
   "source": [
    "import pandas as pd\n",
    "import numpy as np\n",
    "from sklearn.linear_model import LogisticRegression\n",
    "from sklearn.model_selection import train_test_split\n",
    "from sklearn.metrics import confusion_matrix\n",
    "from sklearn.metrics import classification_report\n",
    "import warnings\n",
    "warnings.filterwarnings(\"ignore\")"
   ]
  },
  {
   "cell_type": "code",
   "execution_count": 2,
   "id": "a2ce20d5",
   "metadata": {},
   "outputs": [],
   "source": [
    "columns = [\"age\",\"sex\",\"cp\",\"trestbps\",\"chol\",\"fbs\",\"restecg\",\"thalach\",\"exang\",\"oldpeak\",\"slope\",\"ca\",\"thal\",\"num\"]"
   ]
  },
  {
   "cell_type": "code",
   "execution_count": 3,
   "id": "ece6bbeb",
   "metadata": {
    "scrolled": true
   },
   "outputs": [],
   "source": [
    "df = pd.read_csv(\"cleveland-0_vs_4.dat\",sep=\",\",skiprows=list(np.arange(18)),names=columns)"
   ]
  },
  {
   "cell_type": "code",
   "execution_count": 19,
   "id": "ff5d710c",
   "metadata": {},
   "outputs": [
    {
     "data": {
      "text/html": [
       "<div>\n",
       "<style scoped>\n",
       "    .dataframe tbody tr th:only-of-type {\n",
       "        vertical-align: middle;\n",
       "    }\n",
       "\n",
       "    .dataframe tbody tr th {\n",
       "        vertical-align: top;\n",
       "    }\n",
       "\n",
       "    .dataframe thead th {\n",
       "        text-align: right;\n",
       "    }\n",
       "</style>\n",
       "<table border=\"1\" class=\"dataframe\">\n",
       "  <thead>\n",
       "    <tr style=\"text-align: right;\">\n",
       "      <th></th>\n",
       "      <th>age</th>\n",
       "      <th>sex</th>\n",
       "      <th>cp</th>\n",
       "      <th>trestbps</th>\n",
       "      <th>chol</th>\n",
       "      <th>fbs</th>\n",
       "      <th>restecg</th>\n",
       "      <th>thalach</th>\n",
       "      <th>exang</th>\n",
       "      <th>oldpeak</th>\n",
       "      <th>slope</th>\n",
       "      <th>ca</th>\n",
       "      <th>thal</th>\n",
       "      <th>num</th>\n",
       "    </tr>\n",
       "  </thead>\n",
       "  <tbody>\n",
       "    <tr>\n",
       "      <th>0</th>\n",
       "      <td>63.0</td>\n",
       "      <td>1.0</td>\n",
       "      <td>1.0</td>\n",
       "      <td>145.0</td>\n",
       "      <td>233.0</td>\n",
       "      <td>1.0</td>\n",
       "      <td>2.0</td>\n",
       "      <td>150.0</td>\n",
       "      <td>0.0</td>\n",
       "      <td>2.3</td>\n",
       "      <td>3.0</td>\n",
       "      <td>0.0</td>\n",
       "      <td>6.0</td>\n",
       "      <td>0</td>\n",
       "    </tr>\n",
       "    <tr>\n",
       "      <th>1</th>\n",
       "      <td>37.0</td>\n",
       "      <td>1.0</td>\n",
       "      <td>3.0</td>\n",
       "      <td>130.0</td>\n",
       "      <td>250.0</td>\n",
       "      <td>0.0</td>\n",
       "      <td>0.0</td>\n",
       "      <td>187.0</td>\n",
       "      <td>0.0</td>\n",
       "      <td>3.5</td>\n",
       "      <td>3.0</td>\n",
       "      <td>0.0</td>\n",
       "      <td>3.0</td>\n",
       "      <td>0</td>\n",
       "    </tr>\n",
       "    <tr>\n",
       "      <th>2</th>\n",
       "      <td>41.0</td>\n",
       "      <td>0.0</td>\n",
       "      <td>2.0</td>\n",
       "      <td>130.0</td>\n",
       "      <td>204.0</td>\n",
       "      <td>0.0</td>\n",
       "      <td>2.0</td>\n",
       "      <td>172.0</td>\n",
       "      <td>0.0</td>\n",
       "      <td>1.4</td>\n",
       "      <td>1.0</td>\n",
       "      <td>0.0</td>\n",
       "      <td>3.0</td>\n",
       "      <td>0</td>\n",
       "    </tr>\n",
       "    <tr>\n",
       "      <th>3</th>\n",
       "      <td>56.0</td>\n",
       "      <td>1.0</td>\n",
       "      <td>2.0</td>\n",
       "      <td>120.0</td>\n",
       "      <td>236.0</td>\n",
       "      <td>0.0</td>\n",
       "      <td>0.0</td>\n",
       "      <td>178.0</td>\n",
       "      <td>0.0</td>\n",
       "      <td>0.8</td>\n",
       "      <td>1.0</td>\n",
       "      <td>0.0</td>\n",
       "      <td>3.0</td>\n",
       "      <td>0</td>\n",
       "    </tr>\n",
       "    <tr>\n",
       "      <th>4</th>\n",
       "      <td>57.0</td>\n",
       "      <td>0.0</td>\n",
       "      <td>4.0</td>\n",
       "      <td>120.0</td>\n",
       "      <td>354.0</td>\n",
       "      <td>0.0</td>\n",
       "      <td>0.0</td>\n",
       "      <td>163.0</td>\n",
       "      <td>1.0</td>\n",
       "      <td>0.6</td>\n",
       "      <td>1.0</td>\n",
       "      <td>0.0</td>\n",
       "      <td>3.0</td>\n",
       "      <td>0</td>\n",
       "    </tr>\n",
       "  </tbody>\n",
       "</table>\n",
       "</div>"
      ],
      "text/plain": [
       "    age  sex   cp  trestbps   chol  fbs  restecg  thalach  exang  oldpeak  \\\n",
       "0  63.0  1.0  1.0     145.0  233.0  1.0      2.0    150.0    0.0      2.3   \n",
       "1  37.0  1.0  3.0     130.0  250.0  0.0      0.0    187.0    0.0      3.5   \n",
       "2  41.0  0.0  2.0     130.0  204.0  0.0      2.0    172.0    0.0      1.4   \n",
       "3  56.0  1.0  2.0     120.0  236.0  0.0      0.0    178.0    0.0      0.8   \n",
       "4  57.0  0.0  4.0     120.0  354.0  0.0      0.0    163.0    1.0      0.6   \n",
       "\n",
       "   slope   ca thal  num  \n",
       "0    3.0  0.0  6.0    0  \n",
       "1    3.0  0.0  3.0    0  \n",
       "2    1.0  0.0  3.0    0  \n",
       "3    1.0  0.0  3.0    0  \n",
       "4    1.0  0.0  3.0    0  "
      ]
     },
     "execution_count": 19,
     "metadata": {},
     "output_type": "execute_result"
    }
   ],
   "source": [
    "df.head()"
   ]
  },
  {
   "cell_type": "code",
   "execution_count": 5,
   "id": "a1b36eaa",
   "metadata": {},
   "outputs": [
    {
     "data": {
      "text/plain": [
       "age         0\n",
       "sex         0\n",
       "cp          0\n",
       "trestbps    0\n",
       "chol        0\n",
       "fbs         0\n",
       "restecg     0\n",
       "thalach     0\n",
       "exang       0\n",
       "oldpeak     0\n",
       "slope       0\n",
       "ca          0\n",
       "thal        0\n",
       "num         0\n",
       "dtype: int64"
      ]
     },
     "execution_count": 5,
     "metadata": {},
     "output_type": "execute_result"
    }
   ],
   "source": [
    "df.isnull().sum()"
   ]
  },
  {
   "cell_type": "code",
   "execution_count": 6,
   "id": "15207635",
   "metadata": {},
   "outputs": [
    {
     "data": {
      "text/plain": [
       "negative    164\n",
       "positive     13\n",
       "Name: num, dtype: int64"
      ]
     },
     "execution_count": 6,
     "metadata": {},
     "output_type": "execute_result"
    }
   ],
   "source": [
    "df.num.value_counts()"
   ]
  },
  {
   "cell_type": "code",
   "execution_count": 7,
   "id": "6079cf18",
   "metadata": {},
   "outputs": [],
   "source": [
    "df[\"num\"] = df[\"num\"].replace({\"negative\":0,\"positive\":1})"
   ]
  },
  {
   "cell_type": "code",
   "execution_count": 9,
   "id": "6128c825",
   "metadata": {
    "scrolled": true
   },
   "outputs": [
    {
     "data": {
      "image/png": "[encoded data removed]",
      "text/plain": [
       "<Figure size 432x288 with 1 Axes>"
      ]
     },
     "metadata": {
      "needs_background": "light"
     },
     "output_type": "display_data"
    },
    {
     "name": "stdout",
     "output_type": "stream",
     "text": [
      "kalp krizi geciren insan oranı: 7.34\n",
      "sağlıklı insan oranı: 92.66\n"
     ]
    }
   ],
   "source": [
    "import seaborn as sns\n",
    "import matplotlib.pyplot as plt\n",
    "sns.countplot(df.num)\n",
    "plt.show()\n",
    "print(\"kalp krizi geciren insan oranı: {:.2f}\".format(sum(df.num)/len(df.num)*100))\n",
    "print(\"sağlıklı insan oranı: {:.2f}\".format((len(df.num)-sum(df.num))/len(df.num)*100))"
   ]
  },
  {
   "cell_type": "markdown",
   "id": "51a44c5c",
   "metadata": {},
   "source": [
    "Oranlar sınıf dengesizliği olduğunu gösteriyor.  "
   ]
  },
  {
   "cell_type": "code",
   "execution_count": 10,
   "id": "4a9dc14b",
   "metadata": {},
   "outputs": [],
   "source": [
    "df = df.replace({'<null>':np.nan})"
   ]
  },
  {
   "cell_type": "code",
   "execution_count": 11,
   "id": "1598b1d9",
   "metadata": {},
   "outputs": [
    {
     "data": {
      "text/plain": [
       "age         0\n",
       "sex         0\n",
       "cp          0\n",
       "trestbps    0\n",
       "chol        0\n",
       "fbs         0\n",
       "restecg     0\n",
       "thalach     0\n",
       "exang       0\n",
       "oldpeak     0\n",
       "slope       0\n",
       "ca          3\n",
       "thal        1\n",
       "num         0\n",
       "dtype: int64"
      ]
     },
     "execution_count": 11,
     "metadata": {},
     "output_type": "execute_result"
    }
   ],
   "source": [
    "df.isnull().sum()"
   ]
  },
  {
   "cell_type": "code",
   "execution_count": 12,
   "id": "ea8b4a72",
   "metadata": {
    "scrolled": true
   },
   "outputs": [],
   "source": [
    "df[\"ca\"] = df[\"ca\"].fillna(0)\n",
    "df[\"thal\"] = df[\"thal\"].fillna(3)"
   ]
  },
  {
   "cell_type": "code",
   "execution_count": 13,
   "id": "d9139cb7",
   "metadata": {},
   "outputs": [],
   "source": [
    "def model_olustur(X,y):\n",
    "    \n",
    "    X_train,X_test,y_train,y_test = train_test_split(X,y,test_size=0.2,random_state=111,stratify=y)\n",
    "    log_reg = LogisticRegression()\n",
    "    log_reg.fit(X_train,y_train)\n",
    "    \n",
    "    predict_train = log_reg.predict(X_train)\n",
    "    predict_test = log_reg.predict(X_test)\n",
    "    \n",
    "    train_confusion_matrix = confusion_matrix(y_train,predict_train)\n",
    "    test_confusion_matrix = confusion_matrix(y_test,predict_test)\n",
    "    \n",
    "    print(\"model doğruluğu: \",log_reg.score(X_train,y_train))\n",
    "    print(\"eğitim veri kümesi metrik değerleri\")\n",
    "    print(classification_report(y_train,predict_train))\n",
    "    print(\"test veri kümesi metrik değerleri\")\n",
    "    print(classification_report(y_test,predict_test))\n",
    "    \n",
    "    return None"
   ]
  },
  {
   "cell_type": "code",
   "execution_count": 14,
   "id": "43e11126",
   "metadata": {},
   "outputs": [
    {
     "name": "stdout",
     "output_type": "stream",
     "text": [
      "model doğruluğu:  0.9787234042553191\n",
      "eğitim veri kümesi metrik değerleri\n",
      "              precision    recall  f1-score   support\n",
      "\n",
      "           0       0.98      0.99      0.99       131\n",
      "           1       0.89      0.80      0.84        10\n",
      "\n",
      "    accuracy                           0.98       141\n",
      "   macro avg       0.94      0.90      0.92       141\n",
      "weighted avg       0.98      0.98      0.98       141\n",
      "\n",
      "test veri kümesi metrik değerleri\n",
      "              precision    recall  f1-score   support\n",
      "\n",
      "           0       0.94      0.97      0.96        33\n",
      "           1       0.50      0.33      0.40         3\n",
      "\n",
      "    accuracy                           0.92        36\n",
      "   macro avg       0.72      0.65      0.68        36\n",
      "weighted avg       0.90      0.92      0.91        36\n",
      "\n"
     ]
    }
   ],
   "source": [
    "X = df.drop(\"num\",axis=1)\n",
    "y = df[\"num\"]\n",
    "model_olustur(X,y)"
   ]
  },
  {
   "cell_type": "markdown",
   "id": "0cfc391f",
   "metadata": {},
   "source": [
    "model doğruluğu yüksek gibi gözükse de metrikler cok düşük,bu metrikleri iyileştirmek için izleyeceğimiz bi kaç adım var:"
   ]
  },
  {
   "cell_type": "markdown",
   "id": "5db0c8ad",
   "metadata": {},
   "source": [
    "#### 1.Örneklem arttırma"
   ]
  },
  {
   "cell_type": "code",
   "execution_count": 15,
   "id": "dadcafea",
   "metadata": {},
   "outputs": [
    {
     "data": {
      "text/plain": [
       "0    164\n",
       "1    164\n",
       "Name: num, dtype: int64"
      ]
     },
     "execution_count": 15,
     "metadata": {},
     "output_type": "execute_result"
    }
   ],
   "source": [
    "from sklearn.utils import resample\n",
    "\n",
    "saglıklı = df[df.num == 0]\n",
    "kalpkrizi = df[df.num == 1]\n",
    "\n",
    "arttırılmıs_kalpkrizi = resample(kalpkrizi,\n",
    "                                 replace = True,\n",
    "                                 n_samples = len(saglıklı),\n",
    "                                 random_state = 111\n",
    "                                )\n",
    "\n",
    "arttırılmıs_df = pd.concat([saglıklı,arttırılmıs_kalpkrizi])\n",
    "arttırılmıs_df.num.value_counts()"
   ]
  },
  {
   "cell_type": "code",
   "execution_count": 16,
   "id": "4cedf160",
   "metadata": {},
   "outputs": [
    {
     "name": "stdout",
     "output_type": "stream",
     "text": [
      "model doğruluğu:  0.9732824427480916\n",
      "eğitim veri kümesi metrik değerleri\n",
      "              precision    recall  f1-score   support\n",
      "\n",
      "           0       1.00      0.95      0.97       131\n",
      "           1       0.95      1.00      0.97       131\n",
      "\n",
      "    accuracy                           0.97       262\n",
      "   macro avg       0.97      0.97      0.97       262\n",
      "weighted avg       0.97      0.97      0.97       262\n",
      "\n",
      "test veri kümesi metrik değerleri\n",
      "              precision    recall  f1-score   support\n",
      "\n",
      "           0       1.00      0.94      0.97        33\n",
      "           1       0.94      1.00      0.97        33\n",
      "\n",
      "    accuracy                           0.97        66\n",
      "   macro avg       0.97      0.97      0.97        66\n",
      "weighted avg       0.97      0.97      0.97        66\n",
      "\n"
     ]
    }
   ],
   "source": [
    "X = arttırılmıs_df.drop(\"num\",axis=1)\n",
    "y = arttırılmıs_df[\"num\"]\n",
    "model_olustur(X,y)"
   ]
  },
  {
   "cell_type": "markdown",
   "id": "56ca048b",
   "metadata": {},
   "source": [
    "Elimizde cok fazla veri yok, o yüzden örneklem azaltma yapmak bizi yanıltabilir."
   ]
  },
  {
   "cell_type": "markdown",
   "id": "2579c67d",
   "metadata": {},
   "source": [
    "#### 2.SMOTE"
   ]
  },
  {
   "cell_type": "code",
   "execution_count": 17,
   "id": "40c16c5d",
   "metadata": {},
   "outputs": [
    {
     "name": "stdout",
     "output_type": "stream",
     "text": [
      "model doğruluğu:  0.9770992366412213\n",
      "eğitim veri kümesi metrik değerleri\n",
      "              precision    recall  f1-score   support\n",
      "\n",
      "           0       1.00      0.95      0.98       131\n",
      "           1       0.96      1.00      0.98       131\n",
      "\n",
      "    accuracy                           0.98       262\n",
      "   macro avg       0.98      0.98      0.98       262\n",
      "weighted avg       0.98      0.98      0.98       262\n",
      "\n",
      "test veri kümesi metrik değerleri\n",
      "              precision    recall  f1-score   support\n",
      "\n",
      "           0       1.00      0.94      0.97        33\n",
      "           1       0.94      1.00      0.97        33\n",
      "\n",
      "    accuracy                           0.97        66\n",
      "   macro avg       0.97      0.97      0.97        66\n",
      "weighted avg       0.97      0.97      0.97        66\n",
      "\n"
     ]
    }
   ],
   "source": [
    "from imblearn.over_sampling import SMOTE\n",
    "\n",
    "X = df.drop(\"num\",axis=1)\n",
    "y = df[\"num\"]\n",
    "\n",
    "sm = SMOTE(random_state=100)\n",
    "X_smote,y_smote = sm.fit_resample(X,y)\n",
    "\n",
    "model_olustur(X_smote,y_smote)"
   ]
  },
  {
   "cell_type": "markdown",
   "id": "8b65009a",
   "metadata": {},
   "source": [
    "#### 3.ADASYN"
   ]
  },
  {
   "cell_type": "code",
   "execution_count": 18,
   "id": "ab8e51bd",
   "metadata": {},
   "outputs": [
    {
     "name": "stdout",
     "output_type": "stream",
     "text": [
      "model doğruluğu:  0.973384030418251\n",
      "eğitim veri kümesi metrik değerleri\n",
      "              precision    recall  f1-score   support\n",
      "\n",
      "           0       1.00      0.95      0.97       131\n",
      "           1       0.95      1.00      0.97       132\n",
      "\n",
      "    accuracy                           0.97       263\n",
      "   macro avg       0.97      0.97      0.97       263\n",
      "weighted avg       0.97      0.97      0.97       263\n",
      "\n",
      "test veri kümesi metrik değerleri\n",
      "              precision    recall  f1-score   support\n",
      "\n",
      "           0       1.00      0.94      0.97        33\n",
      "           1       0.94      1.00      0.97        33\n",
      "\n",
      "    accuracy                           0.97        66\n",
      "   macro avg       0.97      0.97      0.97        66\n",
      "weighted avg       0.97      0.97      0.97        66\n",
      "\n"
     ]
    }
   ],
   "source": [
    "from imblearn.over_sampling import ADASYN\n",
    "\n",
    "ads = ADASYN()\n",
    "\n",
    "X = df.drop(\"num\",axis=1)\n",
    "y = df[\"num\"]\n",
    "\n",
    "X_ads,y_ads = ads.fit_resample(X,y)\n",
    "\n",
    "model_olustur(X_ads,y_ads)"
   ]
  },
  {
   "cell_type": "markdown",
   "id": "689f0b50",
   "metadata": {},
   "source": [
    "3 yöntemin de hem model doğruluğu hem de hata metrikleri incelendiğinde bu veri seti için en kullanıslı olan SMOTE yöntemidir."
   ]
  },
  {
   "cell_type": "code",
   "execution_count": null,
   "id": "b8e8c209",
   "metadata": {},
   "outputs": [],
   "source": []
  }
 ],
 "metadata": {
  "kernelspec": {
   "display_name": "Python 3",
   "language": "python",
   "name": "python3"
  },
  "language_info": {
   "codemirror_mode": {
    "name": "ipython",
    "version": 3
   },
   "file_extension": ".py",
   "mimetype": "text/x-python",
   "name": "python",
   "nbconvert_exporter": "python",
   "pygments_lexer": "ipython3",
   "version": "3.8.8"
  }
 },
 "nbformat": 4,
 "nbformat_minor": 5
}
